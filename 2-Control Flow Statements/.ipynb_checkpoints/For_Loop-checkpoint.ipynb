{
 "cells": [
  {
   "cell_type": "markdown",
   "id": "8d9d2b21",
   "metadata": {},
   "source": [
    "# Tuple Unpacking In Python"
   ]
  },
  {
   "cell_type": "markdown",
   "id": "149e726c",
   "metadata": {},
   "source": [
    "The general setup or format used in tuple unpacking are sets of tuple stored in list\n",
    "\n",
    "Example,\n",
    "\n",
    "list=[(3,4),(4,5),(7,8)]\n",
    "\n",
    "Now on a list of that type tuple unpacking is demostrated"
   ]
  },
  {
   "cell_type": "code",
   "execution_count": 1,
   "id": "a3adc009",
   "metadata": {},
   "outputs": [
    {
     "name": "stdout",
     "output_type": "stream",
     "text": [
      "(1, 2)\n",
      "(3, 4)\n",
      "(5, 6)\n",
      "(7, 8)\n"
     ]
    }
   ],
   "source": [
    "list=[(1,2),(3,4),(5,6),(7,8)]\n",
    "\n",
    "#Normal accessing of list elements\n",
    "\n",
    "for i in list:\n",
    "    print(i)"
   ]
  },
  {
   "cell_type": "code",
   "execution_count": 24,
   "id": "1e1578ae",
   "metadata": {},
   "outputs": [
    {
     "ename": "SyntaxError",
     "evalue": "Missing parentheses in call to 'print'. Did you mean print(i)? (4196990862.py, line 3)",
     "output_type": "error",
     "traceback": [
      "\u001b[1;36m  File \u001b[1;32m\"C:\\Users\\KIIT\\AppData\\Local\\Temp\\ipykernel_68644\\4196990862.py\"\u001b[1;36m, line \u001b[1;32m3\u001b[0m\n\u001b[1;33m    print i\u001b[0m\n\u001b[1;37m          ^\u001b[0m\n\u001b[1;31mSyntaxError\u001b[0m\u001b[1;31m:\u001b[0m Missing parentheses in call to 'print'. Did you mean print(i)?\n"
     ]
    }
   ],
   "source": [
    "tuple=(1,2,2,5,6,78,5)\n",
    "for i in tuple:\n",
    "    print i"
   ]
  },
  {
   "cell_type": "code",
   "execution_count": 4,
   "id": "f00f71e0",
   "metadata": {},
   "outputs": [
    {
     "name": "stdout",
     "output_type": "stream",
     "text": [
      "1\n",
      "2\n",
      "3\n",
      "4\n",
      "5\n",
      "6\n",
      "7\n",
      "8\n"
     ]
    }
   ],
   "source": [
    "#Tuple unpacking\n",
    "\n",
    "for (a,b) in list:\n",
    "    print(a)\n",
    "    print(b)"
   ]
  },
  {
   "cell_type": "code",
   "execution_count": 5,
   "id": "ae66088c",
   "metadata": {},
   "outputs": [
    {
     "name": "stdout",
     "output_type": "stream",
     "text": [
      "1\n",
      "2\n",
      "3\n",
      "4\n",
      "5\n",
      "6\n",
      "7\n",
      "8\n"
     ]
    }
   ],
   "source": [
    "#Format 2:Tuple unpacking\n",
    "\n",
    "for a,b in list:\n",
    "    print(a)\n",
    "    print(b)"
   ]
  },
  {
   "cell_type": "code",
   "execution_count": 6,
   "id": "01116c86",
   "metadata": {},
   "outputs": [
    {
     "name": "stdout",
     "output_type": "stream",
     "text": [
      "1\n",
      "2\n",
      "9\n",
      "3\n",
      "4\n",
      "10\n",
      "5\n",
      "6\n",
      "11\n",
      "7\n",
      "8\n",
      "12\n"
     ]
    }
   ],
   "source": [
    "#Another example\n",
    "list=[(1,2,9),(3,4,10),(5,6,11),(7,8,12)]\n",
    "for a,b,c in list:\n",
    "    print(a)\n",
    "    print(b)\n",
    "    print(c)"
   ]
  },
  {
   "cell_type": "markdown",
   "id": "8ec7451e",
   "metadata": {},
   "source": [
    "# Normal Unpacking Of List Elements"
   ]
  },
  {
   "cell_type": "code",
   "execution_count": 7,
   "id": "444c748b",
   "metadata": {},
   "outputs": [
    {
     "name": "stdout",
     "output_type": "stream",
     "text": [
      "1\n",
      "2\n",
      "3\n",
      "4\n",
      "5\n",
      "6\n",
      "7\n",
      "8\n"
     ]
    }
   ],
   "source": [
    "list=[1,2,3,4,5,6,7,8]\n",
    "for i in list:\n",
    "    print(i)"
   ]
  },
  {
   "cell_type": "code",
   "execution_count": 9,
   "id": "20c7b1fb",
   "metadata": {},
   "outputs": [
    {
     "name": "stdout",
     "output_type": "stream",
     "text": [
      "Cool\n",
      "Cool\n",
      "Cool\n",
      "Cool\n",
      "Cool\n",
      "Cool\n",
      "Cool\n",
      "Cool\n"
     ]
    }
   ],
   "source": [
    "for i in list:\n",
    "    print('Cool')\n",
    "#This prints whatever is enclosed in the print bracket that number of times the elements are there in list"
   ]
  },
  {
   "cell_type": "markdown",
   "id": "627154b2",
   "metadata": {},
   "source": [
    "# Dictionary Unpacking"
   ]
  },
  {
   "cell_type": "code",
   "execution_count": 12,
   "id": "e4a1377f",
   "metadata": {},
   "outputs": [
    {
     "name": "stdout",
     "output_type": "stream",
     "text": [
      "k1\n",
      "k3\n",
      "k5\n",
      "k7\n"
     ]
    }
   ],
   "source": [
    "Dictionary={'k1':2,'k3':4,'k5':6,'k7':8}\n",
    "for i in Dictionary:\n",
    "    print(i)\n",
    "#This command by default will print keys"
   ]
  },
  {
   "cell_type": "code",
   "execution_count": 22,
   "id": "6ed22f9d",
   "metadata": {},
   "outputs": [
    {
     "name": "stdout",
     "output_type": "stream",
     "text": [
      "k1\n",
      "k3\n",
      "k5\n",
      "k7\n"
     ]
    }
   ],
   "source": [
    "for i in Dictionary.keys():\n",
    "    print(i)\n",
    "#This command by default will print keys"
   ]
  },
  {
   "cell_type": "code",
   "execution_count": 20,
   "id": "a7cb04c6",
   "metadata": {},
   "outputs": [
    {
     "name": "stdout",
     "output_type": "stream",
     "text": [
      "2\n",
      "4\n",
      "6\n",
      "8\n"
     ]
    }
   ],
   "source": [
    "#For printing values\n",
    "for i in Dictionary.values():\n",
    "    print(i)"
   ]
  },
  {
   "cell_type": "code",
   "execution_count": 23,
   "id": "a4354120",
   "metadata": {},
   "outputs": [
    {
     "name": "stdout",
     "output_type": "stream",
     "text": [
      "k1\n",
      "2\n",
      "k3\n",
      "4\n",
      "k5\n",
      "6\n",
      "k7\n",
      "8\n"
     ]
    }
   ],
   "source": [
    "#For printing values and keys\n",
    "#Pretty much like tuple unpacking\n",
    "for a,b in Dictionary.items():\n",
    "    print(a)\n",
    "    print(b)"
   ]
  }
 ],
 "metadata": {
  "kernelspec": {
   "display_name": "Python 3 (ipykernel)",
   "language": "python",
   "name": "python3"
  },
  "language_info": {
   "codemirror_mode": {
    "name": "ipython",
    "version": 3
   },
   "file_extension": ".py",
   "mimetype": "text/x-python",
   "name": "python",
   "nbconvert_exporter": "python",
   "pygments_lexer": "ipython3",
   "version": "3.9.13"
  }
 },
 "nbformat": 4,
 "nbformat_minor": 5
}
