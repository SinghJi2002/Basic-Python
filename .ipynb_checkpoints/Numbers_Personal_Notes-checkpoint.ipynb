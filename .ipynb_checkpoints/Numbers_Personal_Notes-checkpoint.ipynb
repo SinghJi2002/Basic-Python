{
 "cells": [
  {
   "cell_type": "markdown",
   "id": "dc6a275c",
   "metadata": {},
   "source": [
    "# Conversion of integers into hexadecimal"
   ]
  },
  {
   "cell_type": "code",
   "execution_count": 1,
   "id": "0d6dcacd",
   "metadata": {},
   "outputs": [
    {
     "data": {
      "text/plain": [
       "'0xc'"
      ]
     },
     "execution_count": 1,
     "metadata": {},
     "output_type": "execute_result"
    }
   ],
   "source": [
    "#Use the format hex(integer to be coverted) for converting decimal or integers to hexadecimals\n",
    "hex(12)"
   ]
  },
  {
   "cell_type": "code",
   "execution_count": 2,
   "id": "53ff4b3e",
   "metadata": {},
   "outputs": [
    {
     "ename": "TypeError",
     "evalue": "'float' object cannot be interpreted as an integer",
     "output_type": "error",
     "traceback": [
      "\u001b[1;31m---------------------------------------------------------------------------\u001b[0m",
      "\u001b[1;31mTypeError\u001b[0m                                 Traceback (most recent call last)",
      "\u001b[1;32m~\\AppData\\Local\\Temp\\ipykernel_42492\\1649381031.py\u001b[0m in \u001b[0;36m<module>\u001b[1;34m\u001b[0m\n\u001b[1;32m----> 1\u001b[1;33m \u001b[0mhex\u001b[0m\u001b[1;33m(\u001b[0m\u001b[1;36m12.2\u001b[0m\u001b[1;33m)\u001b[0m\u001b[1;33m\u001b[0m\u001b[1;33m\u001b[0m\u001b[0m\n\u001b[0m",
      "\u001b[1;31mTypeError\u001b[0m: 'float' object cannot be interpreted as an integer"
     ]
    }
   ],
   "source": [
    "hex(12.2)"
   ]
  },
  {
   "cell_type": "markdown",
   "id": "13ea2f6c",
   "metadata": {},
   "source": [
    "Remember its  only for conversion of integer to hexadecimal not for floats"
   ]
  },
  {
   "cell_type": "markdown",
   "id": "2dac3d78",
   "metadata": {},
   "source": [
    "# Conversion of integer into binary"
   ]
  },
  {
   "cell_type": "code",
   "execution_count": 4,
   "id": "8333ef35",
   "metadata": {},
   "outputs": [
    {
     "data": {
      "text/plain": [
       "'0b1011'"
      ]
     },
     "execution_count": 4,
     "metadata": {},
     "output_type": "execute_result"
    }
   ],
   "source": [
    "#To convert integer to binary use bin(integer to be converted)\n",
    "bin(11)"
   ]
  },
  {
   "cell_type": "code",
   "execution_count": 5,
   "id": "6a977f81",
   "metadata": {},
   "outputs": [
    {
     "data": {
      "text/plain": [
       "'0b1'"
      ]
     },
     "execution_count": 5,
     "metadata": {},
     "output_type": "execute_result"
    }
   ],
   "source": [
    "bin(1)"
   ]
  },
  {
   "cell_type": "markdown",
   "id": "85be35b8",
   "metadata": {},
   "source": [
    "# Using exponent without using '**'"
   ]
  },
  {
   "cell_type": "code",
   "execution_count": 8,
   "id": "ea22695e",
   "metadata": {},
   "outputs": [
    {
     "name": "stdout",
     "output_type": "stream",
     "text": [
      "16\n",
      "0\n"
     ]
    }
   ],
   "source": [
    "#We do this by using the function pow(a,b) where a is the base and b is the power.\n",
    "#Anohter way of using pow is pow(a,b,c). It can be represented as (a**b)%c\n",
    "a=pow(2,4)\n",
    "b=pow(2,4,8)\n",
    "print(a)\n",
    "print(b)"
   ]
  },
  {
   "cell_type": "markdown",
   "id": "0ad29cb8",
   "metadata": {},
   "source": [
    "# Abstract\n",
    "The main function of abstract is to return the absolute value of any decimal"
   ]
  },
  {
   "cell_type": "code",
   "execution_count": 9,
   "id": "d1763ba2",
   "metadata": {},
   "outputs": [
    {
     "data": {
      "text/plain": [
       "4.5"
      ]
     },
     "execution_count": 9,
     "metadata": {},
     "output_type": "execute_result"
    }
   ],
   "source": [
    "abs(4.5)"
   ]
  },
  {
   "cell_type": "code",
   "execution_count": 10,
   "id": "dadf9825",
   "metadata": {},
   "outputs": [
    {
     "data": {
      "text/plain": [
       "4"
      ]
     },
     "execution_count": 10,
     "metadata": {},
     "output_type": "execute_result"
    }
   ],
   "source": [
    "abs(-4)"
   ]
  },
  {
   "cell_type": "code",
   "execution_count": 11,
   "id": "3f59896b",
   "metadata": {},
   "outputs": [
    {
     "data": {
      "text/plain": [
       "4"
      ]
     },
     "execution_count": 11,
     "metadata": {},
     "output_type": "execute_result"
    }
   ],
   "source": [
    "abs(+4)"
   ]
  },
  {
   "cell_type": "code",
   "execution_count": 12,
   "id": "751f05b6",
   "metadata": {},
   "outputs": [
    {
     "data": {
      "text/plain": [
       "5.0"
      ]
     },
     "execution_count": 12,
     "metadata": {},
     "output_type": "execute_result"
    }
   ],
   "source": [
    "abs(4.99999999999999999999999999999999999)"
   ]
  },
  {
   "cell_type": "code",
   "execution_count": 13,
   "id": "98282522",
   "metadata": {},
   "outputs": [
    {
     "data": {
      "text/plain": [
       "4.1"
      ]
     },
     "execution_count": 13,
     "metadata": {},
     "output_type": "execute_result"
    }
   ],
   "source": [
    "abs(4.1)"
   ]
  },
  {
   "cell_type": "code",
   "execution_count": 14,
   "id": "a2fbbdb9",
   "metadata": {},
   "outputs": [
    {
     "data": {
      "text/plain": [
       "4.0"
      ]
     },
     "execution_count": 14,
     "metadata": {},
     "output_type": "execute_result"
    }
   ],
   "source": [
    "abs(4.0000000000000000000000000000000000000000000000000001)"
   ]
  },
  {
   "cell_type": "markdown",
   "id": "434273c7",
   "metadata": {},
   "source": [
    "# Round"
   ]
  },
  {
   "cell_type": "code",
   "execution_count": 15,
   "id": "3095a027",
   "metadata": {},
   "outputs": [
    {
     "data": {
      "text/plain": [
       "3"
      ]
     },
     "execution_count": 15,
     "metadata": {},
     "output_type": "execute_result"
    }
   ],
   "source": [
    "#The function of round is present the closest absolute decimal around entered decimal. The syntax used is round(decimal)\n",
    "round(3.14)"
   ]
  },
  {
   "cell_type": "code",
   "execution_count": 16,
   "id": "b65cd888",
   "metadata": {},
   "outputs": [
    {
     "data": {
      "text/plain": [
       "3"
      ]
     },
     "execution_count": 16,
     "metadata": {},
     "output_type": "execute_result"
    }
   ],
   "source": [
    "round(3.13423423552341)"
   ]
  },
  {
   "cell_type": "code",
   "execution_count": 17,
   "id": "5b17e1c8",
   "metadata": {},
   "outputs": [
    {
     "data": {
      "text/plain": [
       "3.12"
      ]
     },
     "execution_count": 17,
     "metadata": {},
     "output_type": "execute_result"
    }
   ],
   "source": [
    "round(3.12345,2)"
   ]
  },
  {
   "cell_type": "markdown",
   "id": "3aedac1e",
   "metadata": {},
   "source": [
    "WHat happened above? See it this way, round does nothing but trips a given decimal till index zero. When we use the syntax round(a,b) b defines the maximum allowable index of a given decimal beyond which the trip will take place.Offcourse the default value of b is 0."
   ]
  },
  {
   "cell_type": "code",
   "execution_count": 18,
   "id": "108c8631",
   "metadata": {},
   "outputs": [
    {
     "data": {
      "text/plain": [
       "8.3"
      ]
     },
     "execution_count": 18,
     "metadata": {},
     "output_type": "execute_result"
    }
   ],
   "source": [
    "round(8.34323,1)"
   ]
  },
  {
   "cell_type": "code",
   "execution_count": null,
   "id": "9844a95b",
   "metadata": {},
   "outputs": [],
   "source": []
  }
 ],
 "metadata": {
  "kernelspec": {
   "display_name": "Python 3 (ipykernel)",
   "language": "python",
   "name": "python3"
  },
  "language_info": {
   "codemirror_mode": {
    "name": "ipython",
    "version": 3
   },
   "file_extension": ".py",
   "mimetype": "text/x-python",
   "name": "python",
   "nbconvert_exporter": "python",
   "pygments_lexer": "ipython3",
   "version": "3.9.13"
  }
 },
 "nbformat": 4,
 "nbformat_minor": 5
}
