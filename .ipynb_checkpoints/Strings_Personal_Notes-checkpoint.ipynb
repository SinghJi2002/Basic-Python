{
 "cells": [
  {
   "cell_type": "markdown",
   "id": "1080f3ea",
   "metadata": {},
   "source": [
    "# Advanced String Method"
   ]
  },
  {
   "cell_type": "markdown",
   "id": "c22a1ce5",
   "metadata": {},
   "source": [
    "# 1.Capitalize"
   ]
  },
  {
   "cell_type": "code",
   "execution_count": 18,
   "id": "8b737dc8",
   "metadata": {},
   "outputs": [
    {
     "data": {
      "text/plain": [
       "'My name is ashutosh'"
      ]
     },
     "execution_count": 18,
     "metadata": {},
     "output_type": "execute_result"
    }
   ],
   "source": [
    "#This method capitalises the first letter of the string\n",
    "s='my name is ashutosh'\n",
    "t='mex'\n",
    "s.capitalize()"
   ]
  },
  {
   "cell_type": "markdown",
   "id": "79322f40",
   "metadata": {},
   "source": [
    "# 2.Upper"
   ]
  },
  {
   "cell_type": "code",
   "execution_count": 3,
   "id": "de534d9b",
   "metadata": {},
   "outputs": [
    {
     "data": {
      "text/plain": [
       "'MY NAME IS ASHUTOSH'"
      ]
     },
     "execution_count": 3,
     "metadata": {},
     "output_type": "execute_result"
    }
   ],
   "source": [
    "#This method turns all the letter of a string capital\n",
    "s.upper()"
   ]
  },
  {
   "cell_type": "markdown",
   "id": "6bc2bd1d",
   "metadata": {},
   "source": [
    "# 3.Lower"
   ]
  },
  {
   "cell_type": "code",
   "execution_count": 4,
   "id": "af5536bc",
   "metadata": {},
   "outputs": [
    {
     "data": {
      "text/plain": [
       "'my name is ashutosh'"
      ]
     },
     "execution_count": 4,
     "metadata": {},
     "output_type": "execute_result"
    }
   ],
   "source": [
    "#This method turns all the letters of the string into lower case.\n",
    "s.lower()"
   ]
  },
  {
   "cell_type": "markdown",
   "id": "c53d9883",
   "metadata": {},
   "source": [
    "# 3.Split"
   ]
  },
  {
   "cell_type": "code",
   "execution_count": 5,
   "id": "eab4c7af",
   "metadata": {},
   "outputs": [
    {
     "name": "stdout",
     "output_type": "stream",
     "text": [
      "['my', 'name', 'is', 'ashutosh']\n",
      "['my n', 'me is ', 'shutosh']\n"
     ]
    }
   ],
   "source": [
    "'''This methods breaks the string along some parameter. By default, the divisive factor is space under the \n",
    "format <string>.split. But, to split on some other factor we use the syntax <string>.split(<factor on which you want \n",
    "to split).'''\n",
    "a=s.split()\n",
    "b=s.split('a')\n",
    "print(a)\n",
    "print(b)"
   ]
  },
  {
   "cell_type": "markdown",
   "id": "718d5712",
   "metadata": {},
   "source": [
    "# 4.Find"
   ]
  },
  {
   "cell_type": "code",
   "execution_count": 6,
   "id": "45036697",
   "metadata": {},
   "outputs": [
    {
     "data": {
      "text/plain": [
       "4"
      ]
     },
     "execution_count": 6,
     "metadata": {},
     "output_type": "execute_result"
    }
   ],
   "source": [
    "#The general syntax that we use here is <string>.find(<string element to be found)>. Returns the first index on which string \n",
    "#element occurs.\n",
    "s.find('a')"
   ]
  },
  {
   "cell_type": "markdown",
   "id": "78445521",
   "metadata": {},
   "source": [
    "# 5.Center\n",
    "The main function of center is to print centerised string. Syntax is <string>.center(a,b), where a is number of total spaces to be alloted to the new string. b general has element that is added to cover empty spaces in the string"
   ]
  },
  {
   "cell_type": "code",
   "execution_count": 9,
   "id": "8dd1ce6a",
   "metadata": {},
   "outputs": [
    {
     "data": {
      "text/plain": [
       "'xxxxxxxxxxxxxxxmy name is ashutoshxxxxxxxxxxxxxxxx'"
      ]
     },
     "execution_count": 9,
     "metadata": {},
     "output_type": "execute_result"
    }
   ],
   "source": [
    "s.center(50,'x')"
   ]
  },
  {
   "cell_type": "markdown",
   "id": "3c27e927",
   "metadata": {},
   "source": [
    "# 6.isalnum()\n",
    "This method checks wheather all the character of the string are alpha numeric, that is alphabet or number and returns True if its the case else False. Note that if there are spaces then also it will return False"
   ]
  },
  {
   "cell_type": "code",
   "execution_count": 22,
   "id": "809053e6",
   "metadata": {},
   "outputs": [
    {
     "data": {
      "text/plain": [
       "True"
      ]
     },
     "execution_count": 22,
     "metadata": {},
     "output_type": "execute_result"
    }
   ],
   "source": [
    "t.isalnum()"
   ]
  },
  {
   "cell_type": "code",
   "execution_count": 17,
   "id": "bbf1759b",
   "metadata": {},
   "outputs": [
    {
     "data": {
      "text/plain": [
       "False"
      ]
     },
     "execution_count": 17,
     "metadata": {},
     "output_type": "execute_result"
    }
   ],
   "source": [
    "s.isalnum()"
   ]
  },
  {
   "cell_type": "markdown",
   "id": "844ea73b",
   "metadata": {},
   "source": [
    "# 7.isalpha()\n",
    "This method checks wheather all character of the string are alphabets or not. Returns True if that the case else retuns false. Note false will be returned if spaces are available"
   ]
  },
  {
   "cell_type": "code",
   "execution_count": 19,
   "id": "c85b327f",
   "metadata": {},
   "outputs": [
    {
     "data": {
      "text/plain": [
       "False"
      ]
     },
     "execution_count": 19,
     "metadata": {},
     "output_type": "execute_result"
    }
   ],
   "source": [
    "s.isalpha()"
   ]
  },
  {
   "cell_type": "code",
   "execution_count": 21,
   "id": "432937b9",
   "metadata": {},
   "outputs": [
    {
     "data": {
      "text/plain": [
       "True"
      ]
     },
     "execution_count": 21,
     "metadata": {},
     "output_type": "execute_result"
    }
   ],
   "source": [
    "t.isalpha()"
   ]
  },
  {
   "cell_type": "markdown",
   "id": "a4647842",
   "metadata": {},
   "source": [
    "# 8.isupper()\n",
    "This method checks wheather all the characters in a string are uppercased or not. True and False are its return types depending on the check. Its output doesn't depend upon the availability of space."
   ]
  },
  {
   "cell_type": "code",
   "execution_count": 23,
   "id": "097b9493",
   "metadata": {},
   "outputs": [
    {
     "data": {
      "text/plain": [
       "False"
      ]
     },
     "execution_count": 23,
     "metadata": {},
     "output_type": "execute_result"
    }
   ],
   "source": [
    "s.isupper()"
   ]
  },
  {
   "cell_type": "code",
   "execution_count": 24,
   "id": "b9da3357",
   "metadata": {},
   "outputs": [
    {
     "data": {
      "text/plain": [
       "False"
      ]
     },
     "execution_count": 24,
     "metadata": {},
     "output_type": "execute_result"
    }
   ],
   "source": [
    "t.isupper()"
   ]
  },
  {
   "cell_type": "code",
   "execution_count": 25,
   "id": "82f2606e",
   "metadata": {},
   "outputs": [
    {
     "data": {
      "text/plain": [
       "True"
      ]
     },
     "execution_count": 25,
     "metadata": {},
     "output_type": "execute_result"
    }
   ],
   "source": [
    "'HELLO WORLD'.isupper()"
   ]
  },
  {
   "cell_type": "markdown",
   "id": "3bceea57",
   "metadata": {},
   "source": [
    "# 9.islower()\n",
    "This method checks wheather all the characters in a string are lowercased or not. True and False are its return types depending on the check. Its output doesn't depend upon the availability of space."
   ]
  },
  {
   "cell_type": "code",
   "execution_count": 26,
   "id": "d07b0b5c",
   "metadata": {},
   "outputs": [
    {
     "data": {
      "text/plain": [
       "True"
      ]
     },
     "execution_count": 26,
     "metadata": {},
     "output_type": "execute_result"
    }
   ],
   "source": [
    "s.islower()"
   ]
  },
  {
   "cell_type": "code",
   "execution_count": 27,
   "id": "bd5f4909",
   "metadata": {},
   "outputs": [
    {
     "data": {
      "text/plain": [
       "True"
      ]
     },
     "execution_count": 27,
     "metadata": {},
     "output_type": "execute_result"
    }
   ],
   "source": [
    "t.islower()"
   ]
  },
  {
   "cell_type": "markdown",
   "id": "92434dbe",
   "metadata": {},
   "source": [
    "# 10.isspace()\n",
    "This method checks wheather all the characters in a string are spaces or not. True and False are its return types depending on the check."
   ]
  },
  {
   "cell_type": "code",
   "execution_count": 28,
   "id": "cfad009b",
   "metadata": {},
   "outputs": [
    {
     "data": {
      "text/plain": [
       "False"
      ]
     },
     "execution_count": 28,
     "metadata": {},
     "output_type": "execute_result"
    }
   ],
   "source": [
    "s.isspace()"
   ]
  },
  {
   "cell_type": "code",
   "execution_count": 29,
   "id": "dfef671a",
   "metadata": {},
   "outputs": [
    {
     "data": {
      "text/plain": [
       "False"
      ]
     },
     "execution_count": 29,
     "metadata": {},
     "output_type": "execute_result"
    }
   ],
   "source": [
    "t.isspace()"
   ]
  },
  {
   "cell_type": "code",
   "execution_count": 30,
   "id": "4de26033",
   "metadata": {},
   "outputs": [
    {
     "data": {
      "text/plain": [
       "True"
      ]
     },
     "execution_count": 30,
     "metadata": {},
     "output_type": "execute_result"
    }
   ],
   "source": [
    "'      '.isspace()"
   ]
  },
  {
   "cell_type": "markdown",
   "id": "48c48afe",
   "metadata": {},
   "source": [
    "# 11.istitle()\n",
    "This method checks first character of all the word of the string are capital and rest are small or not. True and False are its return types depending on the check. Its output doesn't depend upon the availability of space."
   ]
  },
  {
   "cell_type": "code",
   "execution_count": 31,
   "id": "beb56039",
   "metadata": {},
   "outputs": [
    {
     "data": {
      "text/plain": [
       "False"
      ]
     },
     "execution_count": 31,
     "metadata": {},
     "output_type": "execute_result"
    }
   ],
   "source": [
    "t.istitle()"
   ]
  },
  {
   "cell_type": "code",
   "execution_count": 32,
   "id": "68cccfb8",
   "metadata": {},
   "outputs": [
    {
     "data": {
      "text/plain": [
       "False"
      ]
     },
     "execution_count": 32,
     "metadata": {},
     "output_type": "execute_result"
    }
   ],
   "source": [
    "s.istitle()"
   ]
  },
  {
   "cell_type": "code",
   "execution_count": 33,
   "id": "eefff7b2",
   "metadata": {},
   "outputs": [
    {
     "data": {
      "text/plain": [
       "False"
      ]
     },
     "execution_count": 33,
     "metadata": {},
     "output_type": "execute_result"
    }
   ],
   "source": [
    "'My name is khan'.istitle()"
   ]
  },
  {
   "cell_type": "code",
   "execution_count": 34,
   "id": "a9b083b5",
   "metadata": {},
   "outputs": [
    {
     "data": {
      "text/plain": [
       "True"
      ]
     },
     "execution_count": 34,
     "metadata": {},
     "output_type": "execute_result"
    }
   ],
   "source": [
    "'My Name Is Khan'.istitle()"
   ]
  },
  {
   "cell_type": "markdown",
   "id": "167701ed",
   "metadata": {},
   "source": [
    "# 12.endswith()\n",
    "This method checks wheather the last character or word of string matches with value inside endswith() method or not. True and False are its return types depending on the check. Its output doesn't depend upon the availability of space. General syntax includes <string>.endswith(<value to be compared with the end of the string>)"
   ]
  },
  {
   "cell_type": "code",
   "execution_count": 36,
   "id": "65774624",
   "metadata": {},
   "outputs": [
    {
     "data": {
      "text/plain": [
       "False"
      ]
     },
     "execution_count": 36,
     "metadata": {},
     "output_type": "execute_result"
    }
   ],
   "source": [
    "s.endswith('name')"
   ]
  },
  {
   "cell_type": "code",
   "execution_count": 37,
   "id": "87f53e25",
   "metadata": {},
   "outputs": [
    {
     "data": {
      "text/plain": [
       "True"
      ]
     },
     "execution_count": 37,
     "metadata": {},
     "output_type": "execute_result"
    }
   ],
   "source": [
    "s.endswith('ashutosh')"
   ]
  },
  {
   "cell_type": "markdown",
   "id": "270d5d36",
   "metadata": {},
   "source": [
    "# 13.count()\n",
    "Counts number of times a given word/letter occurs in a string. General syntax is < string >.count(<Word/Letter whose count is to be found>)"
   ]
  },
  {
   "cell_type": "code",
   "execution_count": 38,
   "id": "3afcb9d8",
   "metadata": {},
   "outputs": [
    {
     "data": {
      "text/plain": [
       "2"
      ]
     },
     "execution_count": 38,
     "metadata": {},
     "output_type": "execute_result"
    }
   ],
   "source": [
    "s.count('a')"
   ]
  },
  {
   "cell_type": "markdown",
   "id": "aafbd97c",
   "metadata": {},
   "source": [
    "# 14.Partition\n",
    "Similar to split,syntax wise too. But is performs partition only once and returns (words before partition, seperator, words after partition)"
   ]
  },
  {
   "cell_type": "code",
   "execution_count": 39,
   "id": "e43b6a20",
   "metadata": {},
   "outputs": [
    {
     "data": {
      "text/plain": [
       "('my n', 'a', 'me is ashutosh')"
      ]
     },
     "execution_count": 39,
     "metadata": {},
     "output_type": "execute_result"
    }
   ],
   "source": [
    "s.partition('a')"
   ]
  },
  {
   "cell_type": "code",
   "execution_count": null,
   "id": "22055f88",
   "metadata": {},
   "outputs": [],
   "source": []
  }
 ],
 "metadata": {
  "kernelspec": {
   "display_name": "Python 3 (ipykernel)",
   "language": "python",
   "name": "python3"
  },
  "language_info": {
   "codemirror_mode": {
    "name": "ipython",
    "version": 3
   },
   "file_extension": ".py",
   "mimetype": "text/x-python",
   "name": "python",
   "nbconvert_exporter": "python",
   "pygments_lexer": "ipython3",
   "version": "3.9.13"
  }
 },
 "nbformat": 4,
 "nbformat_minor": 5
}
