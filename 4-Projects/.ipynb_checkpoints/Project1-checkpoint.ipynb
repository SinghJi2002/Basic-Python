{
 "cells": [
  {
   "cell_type": "code",
   "execution_count": 2,
   "id": "7b894004",
   "metadata": {},
   "outputs": [],
   "source": [
    "from random import shuffle"
   ]
  },
  {
   "cell_type": "code",
   "execution_count": 3,
   "id": "8248ecef",
   "metadata": {},
   "outputs": [],
   "source": [
    "def shuffle_list(list1):\n",
    "    return(shuffle(list1))"
   ]
  },
  {
   "cell_type": "code",
   "execution_count": 11,
   "id": "9da48017",
   "metadata": {},
   "outputs": [],
   "source": [
    "def result(user_input):\n",
    "    if list1[user_input]=='o':\n",
    "        print(\"Correct Guess\")\n",
    "    else:\n",
    "        print(\"Wrong Guess\")\n",
    "        print(\"Do you want to play again? Press 1 for Yes and 2 for No\")\n",
    "        choice=int(input())\n",
    "        if choice==1:\n",
    "            user_guess()\n",
    "        else:\n",
    "            print(\"Thank You For Playing\")        "
   ]
  },
  {
   "cell_type": "code",
   "execution_count": 12,
   "id": "71596000",
   "metadata": {},
   "outputs": [],
   "source": [
    "def user_guess():\n",
    "    guess=int(input(\"Enter Index in which you think 'O'is out of 0,1,2\"))\n",
    "    if guess==0 or guess==1 or guess==2:\n",
    "        result(guess)\n",
    "        shuffle_list(list1)\n",
    "    else:\n",
    "        print(\"Wrong Input. Please Re-enter\")\n",
    "        user_guess()"
   ]
  },
  {
   "cell_type": "code",
   "execution_count": 13,
   "id": "8bccc4fa",
   "metadata": {},
   "outputs": [
    {
     "name": "stdout",
     "output_type": "stream",
     "text": [
      "Enter Index in which you think 'O'is out of 0,1,20\n",
      "Wrong Guess\n",
      "Do you want to play again? Press 1 for Yes and 2 for No\n",
      "2\n",
      "Thank You For Playing\n"
     ]
    }
   ],
   "source": [
    "list1=[' ','o',' ']\n",
    "user_guess()"
   ]
  }
 ],
 "metadata": {
  "kernelspec": {
   "display_name": "Python 3 (ipykernel)",
   "language": "python",
   "name": "python3"
  },
  "language_info": {
   "codemirror_mode": {
    "name": "ipython",
    "version": 3
   },
   "file_extension": ".py",
   "mimetype": "text/x-python",
   "name": "python",
   "nbconvert_exporter": "python",
   "pygments_lexer": "ipython3",
   "version": "3.9.13"
  }
 },
 "nbformat": 4,
 "nbformat_minor": 5
}
