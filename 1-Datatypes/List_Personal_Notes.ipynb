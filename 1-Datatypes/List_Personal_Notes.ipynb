{
 "cells": [
  {
   "cell_type": "markdown",
   "id": "3bc0ba53",
   "metadata": {},
   "source": [
    "# Creating a List"
   ]
  },
  {
   "cell_type": "code",
   "execution_count": 3,
   "id": "7255bcde",
   "metadata": {},
   "outputs": [],
   "source": [
    "my_friend=['ashish','ashutosh','divyansh','janamjay','abhay','anurag','ayush']"
   ]
  },
  {
   "cell_type": "markdown",
   "id": "dc32024b",
   "metadata": {},
   "source": [
    "# Cell slicing and Indexing"
   ]
  },
  {
   "cell_type": "code",
   "execution_count": 4,
   "id": "3d66cae2",
   "metadata": {},
   "outputs": [
    {
     "data": {
      "text/plain": [
       "'ashish'"
      ]
     },
     "execution_count": 4,
     "metadata": {},
     "output_type": "execute_result"
    }
   ],
   "source": [
    "my_friend[0]"
   ]
  },
  {
   "cell_type": "code",
   "execution_count": 5,
   "id": "b7680df7",
   "metadata": {},
   "outputs": [
    {
     "data": {
      "text/plain": [
       "'janamjay'"
      ]
     },
     "execution_count": 5,
     "metadata": {},
     "output_type": "execute_result"
    }
   ],
   "source": [
    "my_friend[3]"
   ]
  },
  {
   "cell_type": "code",
   "execution_count": 6,
   "id": "2c4b74ff",
   "metadata": {},
   "outputs": [
    {
     "data": {
      "text/plain": [
       "['ashish', 'ashutosh', 'divyansh', 'janamjay', 'abhay', 'anurag', 'ayush']"
      ]
     },
     "execution_count": 6,
     "metadata": {},
     "output_type": "execute_result"
    }
   ],
   "source": [
    "my_friend[::]"
   ]
  },
  {
   "cell_type": "code",
   "execution_count": 7,
   "id": "d2eb628b",
   "metadata": {},
   "outputs": [
    {
     "data": {
      "text/plain": [
       "['ashish', 'divyansh', 'abhay', 'ayush']"
      ]
     },
     "execution_count": 7,
     "metadata": {},
     "output_type": "execute_result"
    }
   ],
   "source": [
    "my_friend[::2]"
   ]
  },
  {
   "cell_type": "code",
   "execution_count": 8,
   "id": "bef8bb37",
   "metadata": {},
   "outputs": [
    {
     "data": {
      "text/plain": [
       "['divyansh', 'janamjay']"
      ]
     },
     "execution_count": 8,
     "metadata": {},
     "output_type": "execute_result"
    }
   ],
   "source": [
    "my_friend[2:4]"
   ]
  },
  {
   "cell_type": "markdown",
   "id": "0c88ad63",
   "metadata": {},
   "source": [
    "# Concatanation of Lists"
   ]
  },
  {
   "cell_type": "code",
   "execution_count": 9,
   "id": "87fe5a9b",
   "metadata": {},
   "outputs": [],
   "source": [
    "my_girlfreind=['himanshi','divyanshi','isha','ipshita','adrija']"
   ]
  },
  {
   "cell_type": "code",
   "execution_count": 10,
   "id": "8c0d2541",
   "metadata": {},
   "outputs": [
    {
     "data": {
      "text/plain": [
       "['ashish',\n",
       " 'ashutosh',\n",
       " 'divyansh',\n",
       " 'janamjay',\n",
       " 'abhay',\n",
       " 'anurag',\n",
       " 'ayush',\n",
       " 'himanshi',\n",
       " 'divyanshi',\n",
       " 'isha',\n",
       " 'ipshita',\n",
       " 'adrija']"
      ]
     },
     "execution_count": 10,
     "metadata": {},
     "output_type": "execute_result"
    }
   ],
   "source": [
    "my_friend+my_girlfreind"
   ]
  },
  {
   "cell_type": "markdown",
   "id": "973f0454",
   "metadata": {},
   "source": [
    "# Lists are mutable"
   ]
  },
  {
   "cell_type": "code",
   "execution_count": 11,
   "id": "64d4597d",
   "metadata": {},
   "outputs": [],
   "source": [
    "my_friend[0]='divyansh'"
   ]
  },
  {
   "cell_type": "code",
   "execution_count": 12,
   "id": "d8dd23ce",
   "metadata": {},
   "outputs": [
    {
     "data": {
      "text/plain": [
       "['divyansh', 'ashutosh', 'divyansh', 'janamjay', 'abhay', 'anurag', 'ayush']"
      ]
     },
     "execution_count": 12,
     "metadata": {},
     "output_type": "execute_result"
    }
   ],
   "source": [
    "my_friend"
   ]
  },
  {
   "cell_type": "markdown",
   "id": "3ae2373f",
   "metadata": {},
   "source": [
    "As observable, divyansh replces ashish hence unlike strings lists are mutable."
   ]
  },
  {
   "cell_type": "markdown",
   "id": "382f1dfe",
   "metadata": {},
   "source": [
    "# Some Common List Method"
   ]
  },
  {
   "cell_type": "code",
   "execution_count": 13,
   "id": "3e62d5fa",
   "metadata": {},
   "outputs": [
    {
     "data": {
      "text/plain": [
       "'ayush'"
      ]
     },
     "execution_count": 13,
     "metadata": {},
     "output_type": "execute_result"
    }
   ],
   "source": [
    "#1Pop\n",
    "my_friend.pop()"
   ]
  },
  {
   "cell_type": "code",
   "execution_count": 14,
   "id": "b6f1186f",
   "metadata": {},
   "outputs": [
    {
     "data": {
      "text/plain": [
       "['divyansh', 'ashutosh', 'divyansh', 'janamjay', 'abhay', 'anurag']"
      ]
     },
     "execution_count": 14,
     "metadata": {},
     "output_type": "execute_result"
    }
   ],
   "source": [
    "my_friend"
   ]
  },
  {
   "cell_type": "markdown",
   "id": "4a5c7d57",
   "metadata": {},
   "source": [
    "As observable from last two cells, pop removes the last element of a list and returns it."
   ]
  },
  {
   "cell_type": "code",
   "execution_count": 15,
   "id": "bfc25eb3",
   "metadata": {},
   "outputs": [
    {
     "data": {
      "text/plain": [
       "'divyansh'"
      ]
     },
     "execution_count": 15,
     "metadata": {},
     "output_type": "execute_result"
    }
   ],
   "source": [
    "#Pop_Advanced\n",
    "my_friend.pop(2)"
   ]
  },
  {
   "cell_type": "code",
   "execution_count": 16,
   "id": "7175b8c8",
   "metadata": {},
   "outputs": [
    {
     "data": {
      "text/plain": [
       "['divyansh', 'ashutosh', 'janamjay', 'abhay', 'anurag']"
      ]
     },
     "execution_count": 16,
     "metadata": {},
     "output_type": "execute_result"
    }
   ],
   "source": [
    "my_friend"
   ]
  },
  {
   "cell_type": "markdown",
   "id": "6ceded91",
   "metadata": {},
   "source": [
    "As observable, the hybrid pop removes object at index 2, and returns it while mutating the original list."
   ]
  },
  {
   "cell_type": "code",
   "execution_count": 17,
   "id": "b2ebf548",
   "metadata": {},
   "outputs": [],
   "source": [
    "#Append\n",
    "my_friend.append(\"Ashish\")"
   ]
  },
  {
   "cell_type": "code",
   "execution_count": 29,
   "id": "0ac51ff8",
   "metadata": {},
   "outputs": [
    {
     "data": {
      "text/plain": [
       "['divyansh', 'ashutosh', 'janamjay', 'abhay', 'anurag', 'Ashish']"
      ]
     },
     "execution_count": 29,
     "metadata": {},
     "output_type": "execute_result"
    }
   ],
   "source": [
    "my_friend"
   ]
  },
  {
   "cell_type": "markdown",
   "id": "f7c0e589",
   "metadata": {},
   "source": [
    "As observable append entered the function object into the last index of concerned list"
   ]
  },
  {
   "cell_type": "code",
   "execution_count": 19,
   "id": "4eddd0bf",
   "metadata": {},
   "outputs": [],
   "source": [
    "#Sort\n",
    "my_number=[1,3,6,4,10,9] #Creating a new string for understanding\n",
    "my_number.sort()"
   ]
  },
  {
   "cell_type": "code",
   "execution_count": 20,
   "id": "40bb444e",
   "metadata": {},
   "outputs": [
    {
     "data": {
      "text/plain": [
       "[1, 3, 4, 6, 9, 10]"
      ]
     },
     "execution_count": 20,
     "metadata": {},
     "output_type": "execute_result"
    }
   ],
   "source": [
    "my_number"
   ]
  },
  {
   "cell_type": "markdown",
   "id": "336628be",
   "metadata": {},
   "source": [
    "Sort is non-return type function that arranges elements of a list."
   ]
  },
  {
   "cell_type": "code",
   "execution_count": 21,
   "id": "88aac44d",
   "metadata": {},
   "outputs": [],
   "source": [
    "my_newlist=my_number.sort()"
   ]
  },
  {
   "cell_type": "code",
   "execution_count": 22,
   "id": "c9dfe5f0",
   "metadata": {},
   "outputs": [],
   "source": [
    "my_newlist"
   ]
  },
  {
   "cell_type": "markdown",
   "id": "7644f63b",
   "metadata": {},
   "source": [
    "As observable nothing is obtained as output for print the list. This is because the sort function is non-return type fnction and hence nothing is stored in my new list."
   ]
  },
  {
   "cell_type": "code",
   "execution_count": 23,
   "id": "55722880",
   "metadata": {},
   "outputs": [
    {
     "data": {
      "text/plain": [
       "NoneType"
      ]
     },
     "execution_count": 23,
     "metadata": {},
     "output_type": "execute_result"
    }
   ],
   "source": [
    "type(my_newlist)"
   ]
  },
  {
   "cell_type": "code",
   "execution_count": 24,
   "id": "eb9c3c30",
   "metadata": {},
   "outputs": [],
   "source": [
    "#Reverse\n",
    "my_number.reverse()"
   ]
  },
  {
   "cell_type": "code",
   "execution_count": 25,
   "id": "a37b9dd2",
   "metadata": {},
   "outputs": [
    {
     "data": {
      "text/plain": [
       "[10, 9, 6, 4, 3, 1]"
      ]
     },
     "execution_count": 25,
     "metadata": {},
     "output_type": "execute_result"
    }
   ],
   "source": [
    "my_number"
   ]
  },
  {
   "cell_type": "markdown",
   "id": "1ebd9070",
   "metadata": {},
   "source": [
    "All properties similar to sort function."
   ]
  },
  {
   "cell_type": "code",
   "execution_count": 26,
   "id": "68fcef68",
   "metadata": {},
   "outputs": [
    {
     "data": {
      "text/plain": [
       "0"
      ]
     },
     "execution_count": 26,
     "metadata": {},
     "output_type": "execute_result"
    }
   ],
   "source": [
    "#Count\n",
    "my_friend.count('a')"
   ]
  },
  {
   "cell_type": "code",
   "execution_count": 28,
   "id": "c93dac0a",
   "metadata": {},
   "outputs": [
    {
     "data": {
      "text/plain": [
       "1"
      ]
     },
     "execution_count": 28,
     "metadata": {},
     "output_type": "execute_result"
    }
   ],
   "source": [
    "my_friend.count('divyansh')"
   ]
  },
  {
   "cell_type": "code",
   "execution_count": 30,
   "id": "de14b341",
   "metadata": {},
   "outputs": [],
   "source": [
    "#Extend\n",
    "#Adds a list to list\n",
    "my_friend.extend(['Ayush','Abhinav'])"
   ]
  },
  {
   "cell_type": "code",
   "execution_count": 31,
   "id": "ced16c48",
   "metadata": {},
   "outputs": [
    {
     "data": {
      "text/plain": [
       "['divyansh',\n",
       " 'ashutosh',\n",
       " 'janamjay',\n",
       " 'abhay',\n",
       " 'anurag',\n",
       " 'Ashish',\n",
       " 'Ayush',\n",
       " 'Abhinav']"
      ]
     },
     "execution_count": 31,
     "metadata": {},
     "output_type": "execute_result"
    }
   ],
   "source": [
    "my_friend"
   ]
  },
  {
   "cell_type": "code",
   "execution_count": 32,
   "id": "1c45d4a2",
   "metadata": {},
   "outputs": [],
   "source": [
    "#Extend vs Append\n",
    "my_friend.append(['Ayush','Abhinav'])"
   ]
  },
  {
   "cell_type": "code",
   "execution_count": 33,
   "id": "99d4f3b8",
   "metadata": {},
   "outputs": [
    {
     "data": {
      "text/plain": [
       "['divyansh',\n",
       " 'ashutosh',\n",
       " 'janamjay',\n",
       " 'abhay',\n",
       " 'anurag',\n",
       " 'Ashish',\n",
       " 'Ayush',\n",
       " 'Abhinav',\n",
       " ['Ayush', 'Abhinav']]"
      ]
     },
     "execution_count": 33,
     "metadata": {},
     "output_type": "execute_result"
    }
   ],
   "source": [
    "my_friend"
   ]
  },
  {
   "cell_type": "markdown",
   "id": "beef96f2",
   "metadata": {},
   "source": [
    "As obervable both append and extend can add list to a list but extend adds it as two seperate elements and append adds it as one element"
   ]
  },
  {
   "cell_type": "code",
   "execution_count": 34,
   "id": "27220cef",
   "metadata": {},
   "outputs": [
    {
     "data": {
      "text/plain": [
       "3"
      ]
     },
     "execution_count": 34,
     "metadata": {},
     "output_type": "execute_result"
    }
   ],
   "source": [
    "#Index\n",
    "#Simply returns index of the searched element\n",
    "my_friend.index('abhay')"
   ]
  },
  {
   "cell_type": "code",
   "execution_count": 35,
   "id": "d2edecd7",
   "metadata": {},
   "outputs": [],
   "source": [
    "#Insert\n",
    "#Unlike append, index helps us insert a object into the list at our favaured index\n",
    "my_friend.insert(3,'Motabhai')"
   ]
  },
  {
   "cell_type": "code",
   "execution_count": 36,
   "id": "b0021317",
   "metadata": {},
   "outputs": [
    {
     "data": {
      "text/plain": [
       "['divyansh',\n",
       " 'ashutosh',\n",
       " 'janamjay',\n",
       " 'Motabhai',\n",
       " 'abhay',\n",
       " 'anurag',\n",
       " 'Ashish',\n",
       " 'Ayush',\n",
       " 'Abhinav',\n",
       " ['Ayush', 'Abhinav']]"
      ]
     },
     "execution_count": 36,
     "metadata": {},
     "output_type": "execute_result"
    }
   ],
   "source": [
    "my_friend"
   ]
  },
  {
   "cell_type": "markdown",
   "id": "00b2081e",
   "metadata": {},
   "source": [
    "As observable motabhai is inserted at index 3"
   ]
  },
  {
   "cell_type": "code",
   "execution_count": 37,
   "id": "69a75ad1",
   "metadata": {},
   "outputs": [],
   "source": [
    "#Remove\n",
    "#Similar to pop, only difference being we here directly enter the object we want to remove unlike entering index in pop\n",
    "my_friend.remove('Motabhai')"
   ]
  },
  {
   "cell_type": "code",
   "execution_count": 38,
   "id": "3dcbd270",
   "metadata": {},
   "outputs": [
    {
     "data": {
      "text/plain": [
       "['divyansh',\n",
       " 'ashutosh',\n",
       " 'janamjay',\n",
       " 'abhay',\n",
       " 'anurag',\n",
       " 'Ashish',\n",
       " 'Ayush',\n",
       " 'Abhinav',\n",
       " ['Ayush', 'Abhinav']]"
      ]
     },
     "execution_count": 38,
     "metadata": {},
     "output_type": "execute_result"
    }
   ],
   "source": [
    "my_friend"
   ]
  },
  {
   "cell_type": "markdown",
   "id": "e23d2915",
   "metadata": {},
   "source": [
    "As observable motabhai is directly removed from the string"
   ]
  },
  {
   "cell_type": "markdown",
   "id": "80493516",
   "metadata": {},
   "source": [
    "Note that methods such reverse,sort,append,insert,extend,pop,remove will have permanent effect on the list as result when they will be printed in future it will show. Same cannot be said about count, index and etc"
   ]
  },
  {
   "cell_type": "code",
   "execution_count": null,
   "id": "c458bffa",
   "metadata": {},
   "outputs": [],
   "source": []
  }
 ],
 "metadata": {
  "kernelspec": {
   "display_name": "Python 3 (ipykernel)",
   "language": "python",
   "name": "python3"
  },
  "language_info": {
   "codemirror_mode": {
    "name": "ipython",
    "version": 3
   },
   "file_extension": ".py",
   "mimetype": "text/x-python",
   "name": "python",
   "nbconvert_exporter": "python",
   "pygments_lexer": "ipython3",
   "version": "3.9.13"
  }
 },
 "nbformat": 4,
 "nbformat_minor": 5
}
