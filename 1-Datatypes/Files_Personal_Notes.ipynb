{
 "cells": [
  {
   "cell_type": "markdown",
   "id": "514dfe78",
   "metadata": {},
   "source": [
    "# Creating and writing a text with jupyter notebook magic tool\n",
    "The general syntax is\n",
    "\n",
    "%%writefile < filename >.txt\n",
    "Now here you can wrting all the text want in your text file\n",
    "\n",
    "Example is as follow"
   ]
  },
  {
   "cell_type": "code",
   "execution_count": 1,
   "id": "44162e77",
   "metadata": {},
   "outputs": [
    {
     "name": "stdout",
     "output_type": "stream",
     "text": [
      "Writing mynewfile.txt\n"
     ]
    }
   ],
   "source": [
    "%%writefile mynewfile.txt\n",
    "My name is ashutosh kumar singh\n",
    "i live in jamshedpur\n",
    "i study in kiit"
   ]
  },
  {
   "cell_type": "markdown",
   "id": "f814155b",
   "metadata": {},
   "source": [
    "# Opening a already created file on notebooks to work on it\n",
    "Previous method helped us create file. This method will help open that file to work on it using jupyter notebook or any other python environment. The general syntax is\n",
    "\n",
    "< variable on which file is to be opened > = open('< Name of file.txt >')\n",
    "\n",
    "Note that the file name is to passed into the method open as string"
   ]
  },
  {
   "cell_type": "code",
   "execution_count": 21,
   "id": "f3db47c7",
   "metadata": {},
   "outputs": [],
   "source": [
    "file=open('mynewfile.txt',mode='r') #the r mode refers to reading mode for the file"
   ]
  },
  {
   "cell_type": "markdown",
   "id": "bf08a0fb",
   "metadata": {},
   "source": [
    "# Common error while opening a file"
   ]
  },
  {
   "cell_type": "code",
   "execution_count": 12,
   "id": "8db6eca7",
   "metadata": {},
   "outputs": [
    {
     "ename": "FileNotFoundError",
     "evalue": "[Errno 2] No such file or directory: 'bet.text'",
     "output_type": "error",
     "traceback": [
      "\u001b[1;31m---------------------------------------------------------------------------\u001b[0m",
      "\u001b[1;31mFileNotFoundError\u001b[0m                         Traceback (most recent call last)",
      "\u001b[1;32m~\\AppData\\Local\\Temp\\ipykernel_64340\\345268297.py\u001b[0m in \u001b[0;36m<module>\u001b[1;34m\u001b[0m\n\u001b[1;32m----> 1\u001b[1;33m \u001b[0mf\u001b[0m\u001b[1;33m=\u001b[0m\u001b[0mopen\u001b[0m\u001b[1;33m(\u001b[0m\u001b[1;34m'bet.text'\u001b[0m\u001b[1;33m)\u001b[0m\u001b[1;33m\u001b[0m\u001b[1;33m\u001b[0m\u001b[0m\n\u001b[0m",
      "\u001b[1;31mFileNotFoundError\u001b[0m: [Errno 2] No such file or directory: 'bet.text'"
     ]
    }
   ],
   "source": [
    "f=open('bet.text')"
   ]
  },
  {
   "cell_type": "markdown",
   "id": "dcdee7e3",
   "metadata": {},
   "source": [
    "This error is observed in two cases\n",
    "\n",
    "1)When file directory is different to the one notebook is working on\n",
    "\n",
    "2)When file does not exist entirely\n",
    "\n",
    "Note the 'pwd' keyword help us find the current directory on which notebook is working"
   ]
  },
  {
   "cell_type": "code",
   "execution_count": 4,
   "id": "b9f43f65",
   "metadata": {},
   "outputs": [
    {
     "data": {
      "text/plain": [
       "'C:\\\\Users\\\\KIIT\\\\Python Practice Files'"
      ]
     },
     "execution_count": 4,
     "metadata": {},
     "output_type": "execute_result"
    }
   ],
   "source": [
    "pwd"
   ]
  },
  {
   "cell_type": "markdown",
   "id": "03972f86",
   "metadata": {},
   "source": [
    "Now the first reason of the occurence the the error can be easily dealt by entering the full path of the concerned text file along with the name of file and pass them as a string in the open method. It can be seen as follows."
   ]
  },
  {
   "cell_type": "code",
   "execution_count": 14,
   "id": "e98af5e3",
   "metadata": {},
   "outputs": [],
   "source": [
    "f=open('C:\\\\Users\\\\KIIT\\\\Documents\\\\bet.txt')"
   ]
  },
  {
   "cell_type": "markdown",
   "id": "1db088fe",
   "metadata": {},
   "source": [
    "Note that we have used \\\\ to seperate different elements of directory in place of \\"
   ]
  },
  {
   "cell_type": "markdown",
   "id": "9efa45cd",
   "metadata": {},
   "source": [
    "# Reading a file\n",
    "The read method is used to perform this function. The general syntax is\n",
    "\n",
    "< Variable name on which file is loaded >.read()"
   ]
  },
  {
   "cell_type": "code",
   "execution_count": 5,
   "id": "056f0286",
   "metadata": {},
   "outputs": [
    {
     "data": {
      "text/plain": [
       "'My name is ashutosh kumar singh\\ni live in jamshedpur\\ni study in kiit\\n'"
      ]
     },
     "execution_count": 5,
     "metadata": {},
     "output_type": "execute_result"
    }
   ],
   "source": [
    "#1.Read Method\n",
    "file.read()"
   ]
  },
  {
   "cell_type": "code",
   "execution_count": 6,
   "id": "9e153957",
   "metadata": {},
   "outputs": [
    {
     "data": {
      "text/plain": [
       "''"
      ]
     },
     "execution_count": 6,
     "metadata": {},
     "output_type": "execute_result"
    }
   ],
   "source": [
    "file.read()"
   ]
  },
  {
   "cell_type": "markdown",
   "id": "4f1c21fb",
   "metadata": {},
   "source": [
    "When we executed the read statement for the first time we were able to read the whole text stored in the file but that wasn't the case in the second time read command was executed. This is because there is a cursor in functioning here. Initially its at index 0, but after the read command is executed the cursor prints every text it encounter on its path to go at the last index of the text file. After that when read command is executed again, the cursor is already at last index hence it doesn't print anything as there is nothing ahead.\n",
    "\n",
    "To solve this we use seek method. This method adjusts the position of cursor. The general syntax is\n",
    "\n",
    "< Variable name of file >.seek(< Index position you want your cursor to be at >)"
   ]
  },
  {
   "cell_type": "code",
   "execution_count": 7,
   "id": "7690ae83",
   "metadata": {},
   "outputs": [
    {
     "data": {
      "text/plain": [
       "0"
      ]
     },
     "execution_count": 7,
     "metadata": {},
     "output_type": "execute_result"
    }
   ],
   "source": [
    "#Seek\n",
    "file.seek(0)"
   ]
  },
  {
   "cell_type": "code",
   "execution_count": 8,
   "id": "53fff96a",
   "metadata": {},
   "outputs": [
    {
     "data": {
      "text/plain": [
       "'My name is ashutosh kumar singh\\ni live in jamshedpur\\ni study in kiit\\n'"
      ]
     },
     "execution_count": 8,
     "metadata": {},
     "output_type": "execute_result"
    }
   ],
   "source": [
    "file.read()"
   ]
  },
  {
   "cell_type": "markdown",
   "id": "54471685",
   "metadata": {},
   "source": [
    "See that the problem is solved"
   ]
  },
  {
   "cell_type": "code",
   "execution_count": 11,
   "id": "c3d6ae1b",
   "metadata": {},
   "outputs": [
    {
     "data": {
      "text/plain": [
       "['My name is ashutosh kumar singh\\n',\n",
       " 'i live in jamshedpur\\n',\n",
       " 'i study in kiit\\n']"
      ]
     },
     "execution_count": 11,
     "metadata": {},
     "output_type": "execute_result"
    }
   ],
   "source": [
    "#2.Readlines Method\n",
    "#This method helps us to read file line by line. The output is in the form of list which each line making 1 list element\n",
    "file.seek(0)\n",
    "file.readlines()\n",
    "# The above represents the syntax of readline"
   ]
  },
  {
   "cell_type": "markdown",
   "id": "a51accd9",
   "metadata": {},
   "source": [
    "# Closing a file\n",
    "Its a good practice to always close a opened file to avoid any form of issues"
   ]
  },
  {
   "cell_type": "code",
   "execution_count": 16,
   "id": "55cf6791",
   "metadata": {},
   "outputs": [],
   "source": [
    "#Closing File\n",
    "file.close()"
   ]
  },
  {
   "cell_type": "markdown",
   "id": "8eff2def",
   "metadata": {},
   "source": [
    "# The with Method\n",
    "The general syntax is \n",
    "\n",
    "with open( < filename >.txt ) as < variable in which you want to save the file >:\n",
    "    \n",
    "    < Variable >=< Variable in which file is stored >.< any file method >\n",
    "    \n",
    "Examples will be seen below"
   ]
  },
  {
   "cell_type": "code",
   "execution_count": 18,
   "id": "1c020162",
   "metadata": {},
   "outputs": [],
   "source": [
    "with open('mynewfile.txt') as file:\n",
    "    readings=file.read()"
   ]
  },
  {
   "cell_type": "code",
   "execution_count": 19,
   "id": "d6803db0",
   "metadata": {},
   "outputs": [
    {
     "data": {
      "text/plain": [
       "'My name is ashutosh kumar singh\\ni live in jamshedpur\\ni study in kiit\\n'"
      ]
     },
     "execution_count": 19,
     "metadata": {},
     "output_type": "execute_result"
    }
   ],
   "source": [
    "readings"
   ]
  },
  {
   "cell_type": "markdown",
   "id": "3ccbda3b",
   "metadata": {},
   "source": [
    "The advantage of using with is that is both open and closes the file automatically so we do no have to close the file manually"
   ]
  },
  {
   "cell_type": "markdown",
   "id": "3d5ddca6",
   "metadata": {},
   "source": [
    "# Appending a file\n",
    "The append method helps us make ammendments to a pre-existing file"
   ]
  },
  {
   "cell_type": "code",
   "execution_count": 22,
   "id": "c943621f",
   "metadata": {},
   "outputs": [],
   "source": [
    "#Opening file in append mode\n",
    "file=open('mynewfile.txt',mode='a')"
   ]
  },
  {
   "cell_type": "code",
   "execution_count": 23,
   "id": "2723161e",
   "metadata": {},
   "outputs": [
    {
     "data": {
      "text/plain": [
       "23"
      ]
     },
     "execution_count": 23,
     "metadata": {},
     "output_type": "execute_result"
    }
   ],
   "source": [
    "#As soon as we open file in append mode the cursor moves to the end to the file.\n",
    "file.write('I took computer science')"
   ]
  },
  {
   "cell_type": "code",
   "execution_count": 24,
   "id": "c5d37556",
   "metadata": {},
   "outputs": [
    {
     "ename": "UnsupportedOperation",
     "evalue": "not readable",
     "output_type": "error",
     "traceback": [
      "\u001b[1;31m---------------------------------------------------------------------------\u001b[0m",
      "\u001b[1;31mUnsupportedOperation\u001b[0m                      Traceback (most recent call last)",
      "\u001b[1;32m~\\AppData\\Local\\Temp\\ipykernel_64340\\1407933502.py\u001b[0m in \u001b[0;36m<module>\u001b[1;34m\u001b[0m\n\u001b[1;32m----> 1\u001b[1;33m \u001b[0mfile\u001b[0m\u001b[1;33m.\u001b[0m\u001b[0mread\u001b[0m\u001b[1;33m(\u001b[0m\u001b[1;33m)\u001b[0m\u001b[1;33m\u001b[0m\u001b[1;33m\u001b[0m\u001b[0m\n\u001b[0m",
      "\u001b[1;31mUnsupportedOperation\u001b[0m: not readable"
     ]
    }
   ],
   "source": [
    "file.read()"
   ]
  },
  {
   "cell_type": "markdown",
   "id": "61343aa4",
   "metadata": {},
   "source": [
    "Remember after opening file in append mode we can only write the file. We cannot read the file"
   ]
  },
  {
   "cell_type": "code",
   "execution_count": 25,
   "id": "54b05ad8",
   "metadata": {},
   "outputs": [],
   "source": [
    "file.close()"
   ]
  },
  {
   "cell_type": "code",
   "execution_count": 29,
   "id": "b32187cf",
   "metadata": {},
   "outputs": [],
   "source": [
    "#Another way of appending\n",
    "with open('mynewfile.txt',mode='a') as file:\n",
    "    file.write('\\nI want to earn highest pakage possible')"
   ]
  },
  {
   "cell_type": "code",
   "execution_count": 30,
   "id": "a0bf94bd",
   "metadata": {},
   "outputs": [
    {
     "name": "stdout",
     "output_type": "stream",
     "text": [
      "My name is ashutosh kumar singh\n",
      "i live in jamshedpur\n",
      "i study in kiit\n",
      "I took computer science\n",
      "I want to earn highest pakage possible\n"
     ]
    }
   ],
   "source": [
    "#Lets now read the appends made to the file\n",
    "with open('mynewfile.txt',mode='r') as file:\n",
    "          print(file.read())"
   ]
  },
  {
   "cell_type": "markdown",
   "id": "f77e252c",
   "metadata": {},
   "source": [
    "# Writing a file\n",
    "Yes both append and write are nearly same. Main thing that differentiates them is that if append is applied to a non-existant file an error is generated while write will create a new file and make neceesary changes."
   ]
  },
  {
   "cell_type": "code",
   "execution_count": 32,
   "id": "20b363a6",
   "metadata": {},
   "outputs": [],
   "source": [
    "#Writing the file\n",
    "with open('sdfasdfffffffffffffffffs.txt',mode='w') as file:\n",
    "    file.write('akansha chutiya hai')"
   ]
  },
  {
   "cell_type": "code",
   "execution_count": 33,
   "id": "8ee79454",
   "metadata": {},
   "outputs": [
    {
     "name": "stdout",
     "output_type": "stream",
     "text": [
      "akansha chutiya hai\n"
     ]
    }
   ],
   "source": [
    "with open('sdfasdfffffffffffffffffs.txt',mode='r') as file:\n",
    "    print(file.read())"
   ]
  }
 ],
 "metadata": {
  "kernelspec": {
   "display_name": "Python 3 (ipykernel)",
   "language": "python",
   "name": "python3"
  },
  "language_info": {
   "codemirror_mode": {
    "name": "ipython",
    "version": 3
   },
   "file_extension": ".py",
   "mimetype": "text/x-python",
   "name": "python",
   "nbconvert_exporter": "python",
   "pygments_lexer": "ipython3",
   "version": "3.9.13"
  }
 },
 "nbformat": 4,
 "nbformat_minor": 5
}
