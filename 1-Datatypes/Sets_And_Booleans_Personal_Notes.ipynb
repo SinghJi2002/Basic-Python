{
 "cells": [
  {
   "cell_type": "markdown",
   "id": "6fbff3e4",
   "metadata": {},
   "source": [
    "# Creating Sets"
   ]
  },
  {
   "cell_type": "code",
   "execution_count": 15,
   "id": "83e9bb8b",
   "metadata": {},
   "outputs": [],
   "source": [
    "myset= set()"
   ]
  },
  {
   "cell_type": "code",
   "execution_count": 16,
   "id": "b622023e",
   "metadata": {},
   "outputs": [],
   "source": [
    "myset.add(1) #We need to used <set name>.add(element to be added) to add elements to a set."
   ]
  },
  {
   "cell_type": "code",
   "execution_count": 17,
   "id": "a3d78f12",
   "metadata": {},
   "outputs": [
    {
     "data": {
      "text/plain": [
       "{1}"
      ]
     },
     "execution_count": 17,
     "metadata": {},
     "output_type": "execute_result"
    }
   ],
   "source": [
    "myset"
   ]
  },
  {
   "cell_type": "markdown",
   "id": "c538f62a",
   "metadata": {},
   "source": [
    "Above looks like a dictionary, buts its not a dictionary but a set as it doesn't have key-value objects."
   ]
  },
  {
   "cell_type": "code",
   "execution_count": 18,
   "id": "343bf70c",
   "metadata": {},
   "outputs": [],
   "source": [
    "myset.add(2)"
   ]
  },
  {
   "cell_type": "code",
   "execution_count": 19,
   "id": "02ac3c8b",
   "metadata": {},
   "outputs": [
    {
     "data": {
      "text/plain": [
       "{1, 2}"
      ]
     },
     "execution_count": 19,
     "metadata": {},
     "output_type": "execute_result"
    }
   ],
   "source": [
    "myset"
   ]
  },
  {
   "cell_type": "code",
   "execution_count": 20,
   "id": "ef4dccb5",
   "metadata": {},
   "outputs": [],
   "source": [
    "myset.add(2)"
   ]
  },
  {
   "cell_type": "code",
   "execution_count": 21,
   "id": "8db9b26a",
   "metadata": {},
   "outputs": [
    {
     "data": {
      "text/plain": [
       "{1, 2}"
      ]
     },
     "execution_count": 21,
     "metadata": {},
     "output_type": "execute_result"
    }
   ],
   "source": [
    "myset"
   ]
  },
  {
   "cell_type": "markdown",
   "id": "f1924ef4",
   "metadata": {},
   "source": [
    "This what makes set unique. We added 2 twice into the set but it only show 2 once in output, because set is a collection a unique elements and repititive elemets are collapsed into one."
   ]
  },
  {
   "cell_type": "markdown",
   "id": "6974597a",
   "metadata": {},
   "source": [
    "# Casting Lists Into Sets"
   ]
  },
  {
   "cell_type": "code",
   "execution_count": 22,
   "id": "dc8de5b2",
   "metadata": {},
   "outputs": [],
   "source": [
    "mylist=[2,2,45,6,7,8,5,6,7,2,5,9,9,2,6,7]"
   ]
  },
  {
   "cell_type": "code",
   "execution_count": 23,
   "id": "3d7b78bb",
   "metadata": {},
   "outputs": [
    {
     "data": {
      "text/plain": [
       "{2, 5, 6, 7, 8, 9, 45}"
      ]
     },
     "execution_count": 23,
     "metadata": {},
     "output_type": "execute_result"
    }
   ],
   "source": [
    "set(mylist)"
   ]
  },
  {
   "cell_type": "markdown",
   "id": "d44e46a7",
   "metadata": {},
   "source": [
    "As observable, if we pass a list through set the output will be a set with unique values of list."
   ]
  },
  {
   "cell_type": "markdown",
   "id": "8443d674",
   "metadata": {},
   "source": [
    "# Booleans"
   ]
  },
  {
   "cell_type": "markdown",
   "id": "5e9c02b0",
   "metadata": {},
   "source": [
    "Nothing much in booleans. It has 2 elements in True and False.\n",
    "We discussed a keyword None which we use when we create a variable now but assign it a value later."
   ]
  },
  {
   "cell_type": "code",
   "execution_count": 24,
   "id": "98b92ffa",
   "metadata": {},
   "outputs": [
    {
     "ename": "NameError",
     "evalue": "name 'b' is not defined",
     "output_type": "error",
     "traceback": [
      "\u001b[1;31m---------------------------------------------------------------------------\u001b[0m",
      "\u001b[1;31mNameError\u001b[0m                                 Traceback (most recent call last)",
      "\u001b[1;32m~\\AppData\\Local\\Temp\\ipykernel_56524\\1685013873.py\u001b[0m in \u001b[0;36m<module>\u001b[1;34m\u001b[0m\n\u001b[1;32m----> 1\u001b[1;33m \u001b[0mb\u001b[0m\u001b[1;33m\u001b[0m\u001b[1;33m\u001b[0m\u001b[0m\n\u001b[0m",
      "\u001b[1;31mNameError\u001b[0m: name 'b' is not defined"
     ]
    }
   ],
   "source": [
    "b"
   ]
  },
  {
   "cell_type": "markdown",
   "id": "1263a0ca",
   "metadata": {},
   "source": [
    "To avoid above error we use None."
   ]
  },
  {
   "cell_type": "code",
   "execution_count": 25,
   "id": "0e17505a",
   "metadata": {},
   "outputs": [],
   "source": [
    "b=None"
   ]
  },
  {
   "cell_type": "markdown",
   "id": "cef2e544",
   "metadata": {},
   "source": [
    "# Advanced Set Methods"
   ]
  },
  {
   "cell_type": "markdown",
   "id": "cb9f28ff",
   "metadata": {},
   "source": [
    "# Clear"
   ]
  },
  {
   "cell_type": "code",
   "execution_count": 26,
   "id": "4a5ba815",
   "metadata": {},
   "outputs": [],
   "source": [
    "#This method simply empties a pre-existing set\n",
    "myset.clear()"
   ]
  },
  {
   "cell_type": "code",
   "execution_count": 27,
   "id": "bc09e108",
   "metadata": {},
   "outputs": [
    {
     "data": {
      "text/plain": [
       "set()"
      ]
     },
     "execution_count": 27,
     "metadata": {},
     "output_type": "execute_result"
    }
   ],
   "source": [
    "myset"
   ]
  },
  {
   "cell_type": "markdown",
   "id": "3d663d50",
   "metadata": {},
   "source": [
    "# Copy"
   ]
  },
  {
   "cell_type": "code",
   "execution_count": 28,
   "id": "a5d773e4",
   "metadata": {},
   "outputs": [],
   "source": [
    "#This method simply copies a pre-existing set to a new variable\n",
    "old_set={1,2,3}#Yeah this is another method to declare a set\n",
    "new_set=old_set.copy()"
   ]
  },
  {
   "cell_type": "code",
   "execution_count": 29,
   "id": "240d38bd",
   "metadata": {},
   "outputs": [
    {
     "data": {
      "text/plain": [
       "{1, 2, 3}"
      ]
     },
     "execution_count": 29,
     "metadata": {},
     "output_type": "execute_result"
    }
   ],
   "source": [
    "new_set"
   ]
  },
  {
   "cell_type": "code",
   "execution_count": 30,
   "id": "57d94250",
   "metadata": {},
   "outputs": [],
   "source": [
    "old_set.add(4)"
   ]
  },
  {
   "cell_type": "code",
   "execution_count": 31,
   "id": "756b07c6",
   "metadata": {},
   "outputs": [
    {
     "data": {
      "text/plain": [
       "{1, 2, 3, 4}"
      ]
     },
     "execution_count": 31,
     "metadata": {},
     "output_type": "execute_result"
    }
   ],
   "source": [
    "old_set"
   ]
  },
  {
   "cell_type": "code",
   "execution_count": 32,
   "id": "9c54ebaa",
   "metadata": {},
   "outputs": [
    {
     "data": {
      "text/plain": [
       "{1, 2, 3}"
      ]
     },
     "execution_count": 32,
     "metadata": {},
     "output_type": "execute_result"
    }
   ],
   "source": [
    "new_set"
   ]
  },
  {
   "cell_type": "markdown",
   "id": "301d9ede",
   "metadata": {},
   "source": [
    "As observable the copy set command allow change on old or new set to be seen on one another"
   ]
  },
  {
   "cell_type": "markdown",
   "id": "0b393d2a",
   "metadata": {},
   "source": [
    "# Difference"
   ]
  },
  {
   "cell_type": "code",
   "execution_count": 33,
   "id": "37aed869",
   "metadata": {},
   "outputs": [
    {
     "data": {
      "text/plain": [
       "{4}"
      ]
     },
     "execution_count": 33,
     "metadata": {},
     "output_type": "execute_result"
    }
   ],
   "source": [
    "#This method check 2 sets and print the elements that aren't common in them\n",
    "old_set.difference(new_set)"
   ]
  },
  {
   "cell_type": "code",
   "execution_count": 34,
   "id": "9bba8a2b",
   "metadata": {},
   "outputs": [
    {
     "data": {
      "text/plain": [
       "set()"
      ]
     },
     "execution_count": 34,
     "metadata": {},
     "output_type": "execute_result"
    }
   ],
   "source": [
    "new_set.difference(old_set)"
   ]
  },
  {
   "cell_type": "markdown",
   "id": "5532fb94",
   "metadata": {},
   "source": [
    "Hence this print what extra the set before the . has from the one under tha parenthesis.\n",
    "Like in case 1, old_set has an extra 4 from new_set which is printed but in the second case the new_set doesn't have anything from the old_set so a null is printed"
   ]
  },
  {
   "cell_type": "markdown",
   "id": "84be38ec",
   "metadata": {},
   "source": [
    "# Difference_Update"
   ]
  },
  {
   "cell_type": "markdown",
   "id": "82731770",
   "metadata": {},
   "source": [
    "The syntax used is < set1 >.difference_update(< set2 >)\n",
    "What is method does is it compares what extra element set1 has over set2 and edits the set1 in such a way that the extra elements set1 had over set2 remain and the common elements are removed"
   ]
  },
  {
   "cell_type": "code",
   "execution_count": 35,
   "id": "c6d51d8a",
   "metadata": {},
   "outputs": [],
   "source": [
    "set1={1,2,3}\n",
    "set2={1,4,5}"
   ]
  },
  {
   "cell_type": "code",
   "execution_count": 36,
   "id": "9dfbcb26",
   "metadata": {},
   "outputs": [],
   "source": [
    "set1.difference_update(set2)"
   ]
  },
  {
   "cell_type": "code",
   "execution_count": 37,
   "id": "c9a395b7",
   "metadata": {},
   "outputs": [
    {
     "data": {
      "text/plain": [
       "{2, 3}"
      ]
     },
     "execution_count": 37,
     "metadata": {},
     "output_type": "execute_result"
    }
   ],
   "source": [
    "set1"
   ]
  },
  {
   "cell_type": "markdown",
   "id": "aee2a4f7",
   "metadata": {},
   "source": [
    "# Discard"
   ]
  },
  {
   "cell_type": "markdown",
   "id": "7b4fb14e",
   "metadata": {},
   "source": [
    "It is used to remove an existing element the set.\n",
    "This works on the syntax < Set name >.discard(< element to be removed >)"
   ]
  },
  {
   "cell_type": "code",
   "execution_count": 38,
   "id": "12595e79",
   "metadata": {},
   "outputs": [],
   "source": [
    "set2.discard(4)"
   ]
  },
  {
   "cell_type": "code",
   "execution_count": 39,
   "id": "914f22ce",
   "metadata": {},
   "outputs": [
    {
     "data": {
      "text/plain": [
       "{1, 5}"
      ]
     },
     "execution_count": 39,
     "metadata": {},
     "output_type": "execute_result"
    }
   ],
   "source": [
    "set2"
   ]
  },
  {
   "cell_type": "markdown",
   "id": "31511c86",
   "metadata": {},
   "source": [
    "As observable 4 is removed"
   ]
  },
  {
   "cell_type": "markdown",
   "id": "6d50f93b",
   "metadata": {},
   "source": [
    "# Intersection"
   ]
  },
  {
   "cell_type": "markdown",
   "id": "9e4266f1",
   "metadata": {},
   "source": [
    "Prints a set of elements common between two sets\n",
    "General syntax used is < set1 >.intersection< set2 >"
   ]
  },
  {
   "cell_type": "code",
   "execution_count": 40,
   "id": "7cc7b039",
   "metadata": {},
   "outputs": [],
   "source": [
    "s1={1,4,9,3}\n",
    "s2={1,9,8,7}"
   ]
  },
  {
   "cell_type": "code",
   "execution_count": 41,
   "id": "5ebae844",
   "metadata": {},
   "outputs": [
    {
     "data": {
      "text/plain": [
       "{1, 9}"
      ]
     },
     "execution_count": 41,
     "metadata": {},
     "output_type": "execute_result"
    }
   ],
   "source": [
    "s1.intersection(s2)"
   ]
  },
  {
   "cell_type": "markdown",
   "id": "f0024415",
   "metadata": {},
   "source": [
    "# Intersection_Update"
   ]
  },
  {
   "cell_type": "markdown",
   "id": "4576e472",
   "metadata": {},
   "source": [
    "The syntax used is < set1 >.intersection_update(< set2 >)\n",
    "What is method does is it compares what common elements of set1 and set2 and edits the set1 in such a way that the common elements of set1 and over set2 remain and the uncommon elements are removed."
   ]
  },
  {
   "cell_type": "code",
   "execution_count": 42,
   "id": "5d6b8bbe",
   "metadata": {},
   "outputs": [],
   "source": [
    "s1.intersection_update(s2)"
   ]
  },
  {
   "cell_type": "code",
   "execution_count": 43,
   "id": "64bb2d15",
   "metadata": {},
   "outputs": [
    {
     "data": {
      "text/plain": [
       "{1, 9}"
      ]
     },
     "execution_count": 43,
     "metadata": {},
     "output_type": "execute_result"
    }
   ],
   "source": [
    "s1"
   ]
  },
  {
   "cell_type": "markdown",
   "id": "7bedb2f5",
   "metadata": {},
   "source": [
    "# isdisjoint\n",
    "This method checks wheather the 2 concerned sets are have any intersections or not. If there are no intersectios thenit returns True else it returns False."
   ]
  },
  {
   "cell_type": "code",
   "execution_count": 49,
   "id": "b9363e52",
   "metadata": {},
   "outputs": [],
   "source": [
    "set1={7,8,2,4}\n",
    "set2={2,5,4,8}\n",
    "set3={10}\n",
    "set4={2,4}"
   ]
  },
  {
   "cell_type": "code",
   "execution_count": 50,
   "id": "db563d65",
   "metadata": {},
   "outputs": [
    {
     "data": {
      "text/plain": [
       "False"
      ]
     },
     "execution_count": 50,
     "metadata": {},
     "output_type": "execute_result"
    }
   ],
   "source": [
    "set1.isdisjoint(set2)"
   ]
  },
  {
   "cell_type": "code",
   "execution_count": 51,
   "id": "269a6f16",
   "metadata": {},
   "outputs": [
    {
     "data": {
      "text/plain": [
       "True"
      ]
     },
     "execution_count": 51,
     "metadata": {},
     "output_type": "execute_result"
    }
   ],
   "source": [
    "set1.isdisjoint(set3)"
   ]
  },
  {
   "cell_type": "markdown",
   "id": "9cec352d",
   "metadata": {},
   "source": [
    "# issubset\n",
    "Checks wheather a given set is subset of the other or not. It runs on the syntax set1.issubset(set2), that is it checks wheather set1 is subset of set2 or not and returns values(True or False) accordingly"
   ]
  },
  {
   "cell_type": "code",
   "execution_count": 52,
   "id": "726f9262",
   "metadata": {},
   "outputs": [
    {
     "data": {
      "text/plain": [
       "False"
      ]
     },
     "execution_count": 52,
     "metadata": {},
     "output_type": "execute_result"
    }
   ],
   "source": [
    "set1.issubset(set2)"
   ]
  },
  {
   "cell_type": "code",
   "execution_count": 53,
   "id": "8a994960",
   "metadata": {},
   "outputs": [
    {
     "data": {
      "text/plain": [
       "True"
      ]
     },
     "execution_count": 53,
     "metadata": {},
     "output_type": "execute_result"
    }
   ],
   "source": [
    "set4.issubset(set1)"
   ]
  },
  {
   "cell_type": "markdown",
   "id": "033a34cf",
   "metadata": {},
   "source": [
    "# symmetric_difference\n",
    "Its works exactly same to that of differnce method in the sets section to there is nothing to expand here"
   ]
  },
  {
   "cell_type": "markdown",
   "id": "70a2f47a",
   "metadata": {},
   "source": [
    "# Union\n",
    "This prints a new set which is combination of 2 given sets"
   ]
  },
  {
   "cell_type": "code",
   "execution_count": 54,
   "id": "29e7bd68",
   "metadata": {},
   "outputs": [
    {
     "data": {
      "text/plain": [
       "{2, 4, 5, 7, 8}"
      ]
     },
     "execution_count": 54,
     "metadata": {},
     "output_type": "execute_result"
    }
   ],
   "source": [
    "set1.union(set2)"
   ]
  },
  {
   "cell_type": "markdown",
   "id": "5bf9668e",
   "metadata": {},
   "source": [
    "# Update\n",
    "This update the set1 element with the union of set1 and set2"
   ]
  },
  {
   "cell_type": "code",
   "execution_count": 55,
   "id": "e2fb0497",
   "metadata": {},
   "outputs": [],
   "source": [
    "set1.update(set2)"
   ]
  },
  {
   "cell_type": "code",
   "execution_count": 56,
   "id": "db6f6ee0",
   "metadata": {},
   "outputs": [
    {
     "data": {
      "text/plain": [
       "{2, 4, 5, 7, 8}"
      ]
     },
     "execution_count": 56,
     "metadata": {},
     "output_type": "execute_result"
    }
   ],
   "source": [
    "set1"
   ]
  }
 ],
 "metadata": {
  "kernelspec": {
   "display_name": "Python 3 (ipykernel)",
   "language": "python",
   "name": "python3"
  },
  "language_info": {
   "codemirror_mode": {
    "name": "ipython",
    "version": 3
   },
   "file_extension": ".py",
   "mimetype": "text/x-python",
   "name": "python",
   "nbconvert_exporter": "python",
   "pygments_lexer": "ipython3",
   "version": "3.9.13"
  }
 },
 "nbformat": 4,
 "nbformat_minor": 5
}
