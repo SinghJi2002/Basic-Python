{
 "cells": [
  {
   "cell_type": "markdown",
   "id": "75714439",
   "metadata": {},
   "source": [
    "# Creating Tuples"
   ]
  },
  {
   "cell_type": "code",
   "execution_count": 1,
   "id": "22f518ea",
   "metadata": {},
   "outputs": [],
   "source": [
    "cost=(34,67,89) #Tuples with same data types"
   ]
  },
  {
   "cell_type": "code",
   "execution_count": 2,
   "id": "e222a7b0",
   "metadata": {},
   "outputs": [],
   "source": [
    "max=(4.54,'akansha',67) #Tuples with different datatypes"
   ]
  },
  {
   "cell_type": "code",
   "execution_count": 3,
   "id": "a5e26c55",
   "metadata": {},
   "outputs": [
    {
     "data": {
      "text/plain": [
       "(34, 67, 89)"
      ]
     },
     "execution_count": 3,
     "metadata": {},
     "output_type": "execute_result"
    }
   ],
   "source": [
    "cost"
   ]
  },
  {
   "cell_type": "code",
   "execution_count": 4,
   "id": "cca10545",
   "metadata": {},
   "outputs": [
    {
     "data": {
      "text/plain": [
       "(4.54, 'akansha', 67)"
      ]
     },
     "execution_count": 4,
     "metadata": {},
     "output_type": "execute_result"
    }
   ],
   "source": [
    "max"
   ]
  },
  {
   "cell_type": "markdown",
   "id": "e433f2b9",
   "metadata": {},
   "source": [
    "# Tuple Slicing"
   ]
  },
  {
   "cell_type": "code",
   "execution_count": 5,
   "id": "0c6b2517",
   "metadata": {},
   "outputs": [
    {
     "data": {
      "text/plain": [
       "89"
      ]
     },
     "execution_count": 5,
     "metadata": {},
     "output_type": "execute_result"
    }
   ],
   "source": [
    "cost[2]"
   ]
  },
  {
   "cell_type": "code",
   "execution_count": 7,
   "id": "d4c056e9",
   "metadata": {},
   "outputs": [
    {
     "data": {
      "text/plain": [
       "(4.54,)"
      ]
     },
     "execution_count": 7,
     "metadata": {},
     "output_type": "execute_result"
    }
   ],
   "source": [
    "max[0:1]"
   ]
  },
  {
   "cell_type": "code",
   "execution_count": 8,
   "id": "3bc9d5a8",
   "metadata": {},
   "outputs": [
    {
     "data": {
      "text/plain": [
       "(4.54, 'akansha')"
      ]
     },
     "execution_count": 8,
     "metadata": {},
     "output_type": "execute_result"
    }
   ],
   "source": [
    "max[0:2]"
   ]
  },
  {
   "cell_type": "code",
   "execution_count": 9,
   "id": "7520fd5d",
   "metadata": {},
   "outputs": [
    {
     "data": {
      "text/plain": [
       "'AKANSHA'"
      ]
     },
     "execution_count": 9,
     "metadata": {},
     "output_type": "execute_result"
    }
   ],
   "source": [
    "max[1].upper()"
   ]
  },
  {
   "cell_type": "markdown",
   "id": "590b39e9",
   "metadata": {},
   "source": [
    "# Few Keywords Used In Tuples"
   ]
  },
  {
   "cell_type": "code",
   "execution_count": 11,
   "id": "93dce4cd",
   "metadata": {},
   "outputs": [
    {
     "data": {
      "text/plain": [
       "0"
      ]
     },
     "execution_count": 11,
     "metadata": {},
     "output_type": "execute_result"
    }
   ],
   "source": [
    "#To count the number of times a given element occurs in a tuple we use <tuple>.count(element to be counted)\n",
    "max.count('a')"
   ]
  },
  {
   "cell_type": "code",
   "execution_count": 12,
   "id": "1bca23fc",
   "metadata": {},
   "outputs": [
    {
     "data": {
      "text/plain": [
       "1"
      ]
     },
     "execution_count": 12,
     "metadata": {},
     "output_type": "execute_result"
    }
   ],
   "source": [
    "#To count the first time at which index a given elements occurs in tuple we use <tuple>.index(element to be found)\n",
    "max.count('akansha')"
   ]
  },
  {
   "cell_type": "markdown",
   "id": "93b52e29",
   "metadata": {},
   "source": [
    "Tuples are immutable and generally used in advanced programing stages."
   ]
  }
 ],
 "metadata": {
  "kernelspec": {
   "display_name": "Python 3 (ipykernel)",
   "language": "python",
   "name": "python3"
  },
  "language_info": {
   "codemirror_mode": {
    "name": "ipython",
    "version": 3
   },
   "file_extension": ".py",
   "mimetype": "text/x-python",
   "name": "python",
   "nbconvert_exporter": "python",
   "pygments_lexer": "ipython3",
   "version": "3.9.13"
  }
 },
 "nbformat": 4,
 "nbformat_minor": 5
}
