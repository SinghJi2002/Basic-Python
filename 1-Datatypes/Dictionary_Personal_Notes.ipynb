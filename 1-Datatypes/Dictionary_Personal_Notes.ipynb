{
 "cells": [
  {
   "cell_type": "markdown",
   "id": "c1fdf04e",
   "metadata": {},
   "source": [
    "# Creating A Dictionary"
   ]
  },
  {
   "cell_type": "code",
   "execution_count": 1,
   "id": "08bfb078",
   "metadata": {},
   "outputs": [],
   "source": [
    "ashutosh={'age':20,'cgpa':9,'weight':80}"
   ]
  },
  {
   "cell_type": "code",
   "execution_count": 2,
   "id": "8ab43503",
   "metadata": {},
   "outputs": [
    {
     "name": "stdout",
     "output_type": "stream",
     "text": [
      "{'age': 20, 'cgpa': 9, 'weight': 80}\n"
     ]
    }
   ],
   "source": [
    "print(ashutosh)"
   ]
  },
  {
   "cell_type": "markdown",
   "id": "2df20683",
   "metadata": {},
   "source": [
    "Dictionaries can store superficial data types such as arrays and tuple in their values. They also support multi-layared dictionaries."
   ]
  },
  {
   "cell_type": "code",
   "execution_count": 21,
   "id": "c1f27ed8",
   "metadata": {},
   "outputs": [],
   "source": [
    "cost={\"apple\":25,'orange':{'orange(big)':34,'orange(small)':24},'watermelon':['a','b']}"
   ]
  },
  {
   "cell_type": "markdown",
   "id": "91ed3025",
   "metadata": {},
   "source": [
    "# Accessing Dictionary Objects Via Thier Keys"
   ]
  },
  {
   "cell_type": "code",
   "execution_count": 4,
   "id": "2386ac88",
   "metadata": {},
   "outputs": [
    {
     "data": {
      "text/plain": [
       "20"
      ]
     },
     "execution_count": 4,
     "metadata": {},
     "output_type": "execute_result"
    }
   ],
   "source": [
    "ashutosh['age']"
   ]
  },
  {
   "cell_type": "code",
   "execution_count": 5,
   "id": "b1d29f31",
   "metadata": {},
   "outputs": [
    {
     "data": {
      "text/plain": [
       "9"
      ]
     },
     "execution_count": 5,
     "metadata": {},
     "output_type": "execute_result"
    }
   ],
   "source": [
    "ashutosh['cgpa']"
   ]
  },
  {
   "cell_type": "code",
   "execution_count": 10,
   "id": "ccf03fcd",
   "metadata": {},
   "outputs": [
    {
     "data": {
      "text/plain": [
       "{'orange(big)': 34, 'orange(small)': 24}"
      ]
     },
     "execution_count": 10,
     "metadata": {},
     "output_type": "execute_result"
    }
   ],
   "source": [
    "cost['orange']"
   ]
  },
  {
   "cell_type": "code",
   "execution_count": 13,
   "id": "613fc1e8",
   "metadata": {},
   "outputs": [
    {
     "data": {
      "text/plain": [
       "34"
      ]
     },
     "execution_count": 13,
     "metadata": {},
     "output_type": "execute_result"
    }
   ],
   "source": [
    "cost['orange']['orange(big)']"
   ]
  },
  {
   "cell_type": "code",
   "execution_count": 17,
   "id": "ba6a83f9",
   "metadata": {},
   "outputs": [
    {
     "data": {
      "text/plain": [
       "[34, 45]"
      ]
     },
     "execution_count": 17,
     "metadata": {},
     "output_type": "execute_result"
    }
   ],
   "source": [
    "cost['pineapple']"
   ]
  },
  {
   "cell_type": "code",
   "execution_count": 26,
   "id": "d519312d",
   "metadata": {},
   "outputs": [
    {
     "data": {
      "text/plain": [
       "'B'"
      ]
     },
     "execution_count": 26,
     "metadata": {},
     "output_type": "execute_result"
    }
   ],
   "source": [
    "cost['watermelon'][1].upper() #performing operation on dictionary elements directly"
   ]
  },
  {
   "cell_type": "markdown",
   "id": "aac28065",
   "metadata": {},
   "source": [
    "Dictionaries are mutable. We can add elements to an existing dictionary while also being able to change value of pre-existing keys."
   ]
  },
  {
   "cell_type": "code",
   "execution_count": 24,
   "id": "98dcd7ce",
   "metadata": {},
   "outputs": [],
   "source": [
    "cost['pineapple']=45 #adding element to a dictionary"
   ]
  },
  {
   "cell_type": "code",
   "execution_count": 25,
   "id": "7e230ec0",
   "metadata": {},
   "outputs": [
    {
     "data": {
      "text/plain": [
       "{'apple': 25,\n",
       " 'orange': {'orange(big)': 34, 'orange(small)': 24},\n",
       " 'watermelon': ['a', 'b'],\n",
       " 'pineapple': 45}"
      ]
     },
     "execution_count": 25,
     "metadata": {},
     "output_type": "execute_result"
    }
   ],
   "source": [
    "cost"
   ]
  },
  {
   "cell_type": "code",
   "execution_count": 30,
   "id": "f9d68e8a",
   "metadata": {},
   "outputs": [],
   "source": [
    "cost['apple']=45 #Changing the value for a pe-existing key."
   ]
  },
  {
   "cell_type": "code",
   "execution_count": 31,
   "id": "80e34884",
   "metadata": {},
   "outputs": [
    {
     "data": {
      "text/plain": [
       "{'apple': 45,\n",
       " 'orange': {'orange(big)': 34, 'orange(small)': 24},\n",
       " 'watermelon': ['a', 'b'],\n",
       " 'pineapple': 45}"
      ]
     },
     "execution_count": 31,
     "metadata": {},
     "output_type": "execute_result"
    }
   ],
   "source": [
    "cost"
   ]
  },
  {
   "cell_type": "code",
   "execution_count": 34,
   "id": "21791b03",
   "metadata": {},
   "outputs": [],
   "source": [
    "cost['orange']['orange(big)']=30 #changing the value for nested key-value pair"
   ]
  },
  {
   "cell_type": "code",
   "execution_count": 33,
   "id": "540f14b4",
   "metadata": {},
   "outputs": [
    {
     "data": {
      "text/plain": [
       "{'apple': 45,\n",
       " 'orange': {'orange(big)': 30, 'orange(small)': 24},\n",
       " 'watermelon': ['a', 'b'],\n",
       " 'pineapple': 45}"
      ]
     },
     "execution_count": 33,
     "metadata": {},
     "output_type": "execute_result"
    }
   ],
   "source": [
    "cost"
   ]
  },
  {
   "cell_type": "markdown",
   "id": "9e4a8352",
   "metadata": {},
   "source": [
    "# Few Dictionary Keywords"
   ]
  },
  {
   "cell_type": "code",
   "execution_count": 35,
   "id": "99c1e1aa",
   "metadata": {},
   "outputs": [
    {
     "data": {
      "text/plain": [
       "dict_keys(['apple', 'orange', 'watermelon', 'pineapple'])"
      ]
     },
     "execution_count": 35,
     "metadata": {},
     "output_type": "execute_result"
    }
   ],
   "source": [
    "#to have only the keys of dictionary being printed we use <dictionary>.keys()\n",
    "cost.keys()\n",
    "#Note that the output will be a list as can be observed below."
   ]
  },
  {
   "cell_type": "code",
   "execution_count": 36,
   "id": "3df4a1d3",
   "metadata": {},
   "outputs": [
    {
     "data": {
      "text/plain": [
       "dict_values([45, {'orange(big)': 30, 'orange(small)': 24}, ['a', 'b'], 45])"
      ]
     },
     "execution_count": 36,
     "metadata": {},
     "output_type": "execute_result"
    }
   ],
   "source": [
    "#To have only the values printed we have to use <dictionary>.values()\n",
    "cost.values()\n",
    "#Note that the output will be list as can be observed below"
   ]
  },
  {
   "cell_type": "code",
   "execution_count": 38,
   "id": "0339231b",
   "metadata": {},
   "outputs": [
    {
     "data": {
      "text/plain": [
       "dict_items([('apple', 45), ('orange', {'orange(big)': 30, 'orange(small)': 24}), ('watermelon', ['a', 'b']), ('pineapple', 45)])"
      ]
     },
     "execution_count": 38,
     "metadata": {},
     "output_type": "execute_result"
    }
   ],
   "source": [
    "#To have both key and value pairs being printed in form of tuples we have <dictionary>.items()\n",
    "cost.items()"
   ]
  }
 ],
 "metadata": {
  "kernelspec": {
   "display_name": "Python 3 (ipykernel)",
   "language": "python",
   "name": "python3"
  },
  "language_info": {
   "codemirror_mode": {
    "name": "ipython",
    "version": 3
   },
   "file_extension": ".py",
   "mimetype": "text/x-python",
   "name": "python",
   "nbconvert_exporter": "python",
   "pygments_lexer": "ipython3",
   "version": "3.9.13"
  }
 },
 "nbformat": 4,
 "nbformat_minor": 5
}
