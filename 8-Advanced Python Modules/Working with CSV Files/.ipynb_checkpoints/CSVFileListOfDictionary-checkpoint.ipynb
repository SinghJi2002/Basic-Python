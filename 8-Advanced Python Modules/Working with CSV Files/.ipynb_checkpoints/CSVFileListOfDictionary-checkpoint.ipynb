{
 "cells": [
  {
   "cell_type": "markdown",
   "id": "2dac1094",
   "metadata": {},
   "source": [
    "# Manipulation Of CSV file Open Via List of Dictionary"
   ]
  },
  {
   "cell_type": "markdown",
   "id": "9f590e57",
   "metadata": {},
   "source": [
    "## Opening the File"
   ]
  },
  {
   "cell_type": "code",
   "execution_count": 9,
   "id": "026fbf43",
   "metadata": {},
   "outputs": [],
   "source": [
    "import csv"
   ]
  },
  {
   "cell_type": "code",
   "execution_count": 10,
   "id": "3482ea1e",
   "metadata": {},
   "outputs": [],
   "source": [
    "CSVFileInitialize=open(\"mpg.csv\")"
   ]
  },
  {
   "cell_type": "code",
   "execution_count": 11,
   "id": "f0b135c6",
   "metadata": {},
   "outputs": [],
   "source": [
    "DictionaryFileCSV=csv.DictReader(CSVFileInitialize)"
   ]
  },
  {
   "cell_type": "code",
   "execution_count": 12,
   "id": "30e0ddcf",
   "metadata": {},
   "outputs": [],
   "source": [
    "ListOFDictionaryCSV=list(DictionaryFileCSV)"
   ]
  },
  {
   "cell_type": "code",
   "execution_count": 13,
   "id": "4cdee8d1",
   "metadata": {},
   "outputs": [
    {
     "name": "stdout",
     "output_type": "stream",
     "text": [
      "[{'id': '1', 'manufacturer': 'audi', 'model': 'a4', 'displ': '1.8', 'year': '1999', 'cyl': '4', 'trans': 'auto(l5)', 'drv': 'f', 'cty': '18', 'hwy': '29', 'fl': 'p', 'class': 'compact'}, {'id': '2', 'manufacturer': 'audi', 'model': 'a4', 'displ': '1.8', 'year': '1999', 'cyl': '4', 'trans': 'manual(m5)', 'drv': 'f', 'cty': '21', 'hwy': '29', 'fl': 'p', 'class': 'compact'}, {'id': '3', 'manufacturer': 'audi', 'model': 'a4', 'displ': '2', 'year': '2008', 'cyl': '4', 'trans': 'manual(m6)', 'drv': 'f', 'cty': '20', 'hwy': '31', 'fl': 'p', 'class': 'compact'}, {'id': '4', 'manufacturer': 'audi', 'model': 'a4', 'displ': '2', 'year': '2008', 'cyl': '4', 'trans': 'auto(av)', 'drv': 'f', 'cty': '21', 'hwy': '30', 'fl': 'p', 'class': 'compact'}, {'id': '5', 'manufacturer': 'audi', 'model': 'a4', 'displ': '2.8', 'year': '1999', 'cyl': '6', 'trans': 'auto(l5)', 'drv': 'f', 'cty': '16', 'hwy': '26', 'fl': 'p', 'class': 'compact'}, {'id': '6', 'manufacturer': 'audi', 'model': 'a4', 'displ': '2.8', 'year': '1999', 'cyl': '6', 'trans': 'manual(m5)', 'drv': 'f', 'cty': '18', 'hwy': '26', 'fl': 'p', 'class': 'compact'}, {'id': '7', 'manufacturer': 'audi', 'model': 'a4', 'displ': '3.1', 'year': '2008', 'cyl': '6', 'trans': 'auto(av)', 'drv': 'f', 'cty': '18', 'hwy': '27', 'fl': 'p', 'class': 'compact'}, {'id': '8', 'manufacturer': 'audi', 'model': 'a4 quattro', 'displ': '1.8', 'year': '1999', 'cyl': '4', 'trans': 'manual(m5)', 'drv': '4', 'cty': '18', 'hwy': '26', 'fl': 'p', 'class': 'compact'}, {'id': '9', 'manufacturer': 'audi', 'model': 'a4 quattro', 'displ': '1.8', 'year': '1999', 'cyl': '4', 'trans': 'auto(l5)', 'drv': '4', 'cty': '16', 'hwy': '25', 'fl': 'p', 'class': 'compact'}, {'id': '10', 'manufacturer': 'audi', 'model': 'a4 quattro', 'displ': '2', 'year': '2008', 'cyl': '4', 'trans': 'manual(m6)', 'drv': '4', 'cty': '20', 'hwy': '28', 'fl': 'p', 'class': 'compact'}, {'id': '11', 'manufacturer': 'audi', 'model': 'a4 quattro', 'displ': '2', 'year': '2008', 'cyl': '4', 'trans': 'auto(s6)', 'drv': '4', 'cty': '19', 'hwy': '27', 'fl': 'p', 'class': 'compact'}, {'id': '12', 'manufacturer': 'audi', 'model': 'a4 quattro', 'displ': '2.8', 'year': '1999', 'cyl': '6', 'trans': 'auto(l5)', 'drv': '4', 'cty': '15', 'hwy': '25', 'fl': 'p', 'class': 'compact'}, {'id': '13', 'manufacturer': 'audi', 'model': 'a4 quattro', 'displ': '2.8', 'year': '1999', 'cyl': '6', 'trans': 'manual(m5)', 'drv': '4', 'cty': '17', 'hwy': '25', 'fl': 'p', 'class': 'compact'}, {'id': '14', 'manufacturer': 'audi', 'model': 'a4 quattro', 'displ': '3.1', 'year': '2008', 'cyl': '6', 'trans': 'auto(s6)', 'drv': '4', 'cty': '17', 'hwy': '25', 'fl': 'p', 'class': 'compact'}, {'id': '15', 'manufacturer': 'audi', 'model': 'a4 quattro', 'displ': '3.1', 'year': '2008', 'cyl': '6', 'trans': 'manual(m6)', 'drv': '4', 'cty': '15', 'hwy': '25', 'fl': 'p', 'class': 'compact'}, {'id': '16', 'manufacturer': 'audi', 'model': 'a6 quattro', 'displ': '2.8', 'year': '1999', 'cyl': '6', 'trans': 'auto(l5)', 'drv': '4', 'cty': '15', 'hwy': '24', 'fl': 'p', 'class': 'midsize'}, {'id': '17', 'manufacturer': 'audi', 'model': 'a6 quattro', 'displ': '3.1', 'year': '2008', 'cyl': '6', 'trans': 'auto(s6)', 'drv': '4', 'cty': '17', 'hwy': '25', 'fl': 'p', 'class': 'midsize'}, {'id': '18', 'manufacturer': 'audi', 'model': 'a6 quattro', 'displ': '4.2', 'year': '2008', 'cyl': '8', 'trans': 'auto(s6)', 'drv': '4', 'cty': '16', 'hwy': '23', 'fl': 'p', 'class': 'midsize'}, {'id': '19', 'manufacturer': 'chevrolet', 'model': 'c1500 suburban 2wd', 'displ': '5.3', 'year': '2008', 'cyl': '8', 'trans': 'auto(l4)', 'drv': 'r', 'cty': '14', 'hwy': '20', 'fl': 'r', 'class': 'suv'}, {'id': '20', 'manufacturer': 'chevrolet', 'model': 'c1500 suburban 2wd', 'displ': '5.3', 'year': '2008', 'cyl': '8', 'trans': 'auto(l4)', 'drv': 'r', 'cty': '11', 'hwy': '15', 'fl': 'e', 'class': 'suv'}, {'id': '21', 'manufacturer': 'chevrolet', 'model': 'c1500 suburban 2wd', 'displ': '5.3', 'year': '2008', 'cyl': '8', 'trans': 'auto(l4)', 'drv': 'r', 'cty': '14', 'hwy': '20', 'fl': 'r', 'class': 'suv'}, {'id': '22', 'manufacturer': 'chevrolet', 'model': 'c1500 suburban 2wd', 'displ': '5.7', 'year': '1999', 'cyl': '8', 'trans': 'auto(l4)', 'drv': 'r', 'cty': '13', 'hwy': '17', 'fl': 'r', 'class': 'suv'}, {'id': '23', 'manufacturer': 'chevrolet', 'model': 'c1500 suburban 2wd', 'displ': '6', 'year': '2008', 'cyl': '8', 'trans': 'auto(l4)', 'drv': 'r', 'cty': '12', 'hwy': '17', 'fl': 'r', 'class': 'suv'}, {'id': '24', 'manufacturer': 'chevrolet', 'model': 'corvette', 'displ': '5.7', 'year': '1999', 'cyl': '8', 'trans': 'manual(m6)', 'drv': 'r', 'cty': '16', 'hwy': '26', 'fl': 'p', 'class': '2seater'}, {'id': '25', 'manufacturer': 'chevrolet', 'model': 'corvette', 'displ': '5.7', 'year': '1999', 'cyl': '8', 'trans': 'auto(l4)', 'drv': 'r', 'cty': '15', 'hwy': '23', 'fl': 'p', 'class': '2seater'}, {'id': '26', 'manufacturer': 'chevrolet', 'model': 'corvette', 'displ': '6.2', 'year': '2008', 'cyl': '8', 'trans': 'manual(m6)', 'drv': 'r', 'cty': '16', 'hwy': '26', 'fl': 'p', 'class': '2seater'}, {'id': '27', 'manufacturer': 'chevrolet', 'model': 'corvette', 'displ': '6.2', 'year': '2008', 'cyl': '8', 'trans': 'auto(s6)', 'drv': 'r', 'cty': '15', 'hwy': '25', 'fl': 'p', 'class': '2seater'}, {'id': '28', 'manufacturer': 'chevrolet', 'model': 'corvette', 'displ': '7', 'year': '2008', 'cyl': '8', 'trans': 'manual(m6)', 'drv': 'r', 'cty': '15', 'hwy': '24', 'fl': 'p', 'class': '2seater'}, {'id': '29', 'manufacturer': 'chevrolet', 'model': 'k1500 tahoe 4wd', 'displ': '5.3', 'year': '2008', 'cyl': '8', 'trans': 'auto(l4)', 'drv': '4', 'cty': '14', 'hwy': '19', 'fl': 'r', 'class': 'suv'}, {'id': '30', 'manufacturer': 'chevrolet', 'model': 'k1500 tahoe 4wd', 'displ': '5.3', 'year': '2008', 'cyl': '8', 'trans': 'auto(l4)', 'drv': '4', 'cty': '11', 'hwy': '14', 'fl': 'e', 'class': 'suv'}, {'id': '31', 'manufacturer': 'chevrolet', 'model': 'k1500 tahoe 4wd', 'displ': '5.7', 'year': '1999', 'cyl': '8', 'trans': 'auto(l4)', 'drv': '4', 'cty': '11', 'hwy': '15', 'fl': 'r', 'class': 'suv'}, {'id': '32', 'manufacturer': 'chevrolet', 'model': 'k1500 tahoe 4wd', 'displ': '6.5', 'year': '1999', 'cyl': '8', 'trans': 'auto(l4)', 'drv': '4', 'cty': '14', 'hwy': '17', 'fl': 'd', 'class': 'suv'}, {'id': '33', 'manufacturer': 'chevrolet', 'model': 'malibu', 'displ': '2.4', 'year': '1999', 'cyl': '4', 'trans': 'auto(l4)', 'drv': 'f', 'cty': '19', 'hwy': '27', 'fl': 'r', 'class': 'midsize'}, {'id': '34', 'manufacturer': 'chevrolet', 'model': 'malibu', 'displ': '2.4', 'year': '2008', 'cyl': '4', 'trans': 'auto(l4)', 'drv': 'f', 'cty': '22', 'hwy': '30', 'fl': 'r', 'class': 'midsize'}, {'id': '35', 'manufacturer': 'chevrolet', 'model': 'malibu', 'displ': '3.1', 'year': '1999', 'cyl': '6', 'trans': 'auto(l4)', 'drv': 'f', 'cty': '18', 'hwy': '26', 'fl': 'r', 'class': 'midsize'}, {'id': '36', 'manufacturer': 'chevrolet', 'model': 'malibu', 'displ': '3.5', 'year': '2008', 'cyl': '6', 'trans': 'auto(l4)', 'drv': 'f', 'cty': '18', 'hwy': '29', 'fl': 'r', 'class': 'midsize'}, {'id': '37', 'manufacturer': 'chevrolet', 'model': 'malibu', 'displ': '3.6', 'year': '2008', 'cyl': '6', 'trans': 'auto(s6)', 'drv': 'f', 'cty': '17', 'hwy': '26', 'fl': 'r', 'class': 'midsize'}, {'id': '38', 'manufacturer': 'dodge', 'model': 'caravan 2wd', 'displ': '2.4', 'year': '1999', 'cyl': '4', 'trans': 'auto(l3)', 'drv': 'f', 'cty': '18', 'hwy': '24', 'fl': 'r', 'class': 'minivan'}, {'id': '39', 'manufacturer': 'dodge', 'model': 'caravan 2wd', 'displ': '3', 'year': '1999', 'cyl': '6', 'trans': 'auto(l4)', 'drv': 'f', 'cty': '17', 'hwy': '24', 'fl': 'r', 'class': 'minivan'}, {'id': '40', 'manufacturer': 'dodge', 'model': 'caravan 2wd', 'displ': '3.3', 'year': '1999', 'cyl': '6', 'trans': 'auto(l4)', 'drv': 'f', 'cty': '16', 'hwy': '22', 'fl': 'r', 'class': 'minivan'}, {'id': '41', 'manufacturer': 'dodge', 'model': 'caravan 2wd', 'displ': '3.3', 'year': '1999', 'cyl': '6', 'trans': 'auto(l4)', 'drv': 'f', 'cty': '16', 'hwy': '22', 'fl': 'r', 'class': 'minivan'}, {'id': '42', 'manufacturer': 'dodge', 'model': 'caravan 2wd', 'displ': '3.3', 'year': '2008', 'cyl': '6', 'trans': 'auto(l4)', 'drv': 'f', 'cty': '17', 'hwy': '24', 'fl': 'r', 'class': 'minivan'}, {'id': '43', 'manufacturer': 'dodge', 'model': 'caravan 2wd', 'displ': '3.3', 'year': '2008', 'cyl': '6', 'trans': 'auto(l4)', 'drv': 'f', 'cty': '17', 'hwy': '24', 'fl': 'r', 'class': 'minivan'}, {'id': '44', 'manufacturer': 'dodge', 'model': 'caravan 2wd', 'displ': '3.3', 'year': '2008', 'cyl': '6', 'trans': 'auto(l4)', 'drv': 'f', 'cty': '11', 'hwy': '17', 'fl': 'e', 'class': 'minivan'}, {'id': '45', 'manufacturer': 'dodge', 'model': 'caravan 2wd', 'displ': '3.8', 'year': '1999', 'cyl': '6', 'trans': 'auto(l4)', 'drv': 'f', 'cty': '15', 'hwy': '22', 'fl': 'r', 'class': 'minivan'}, {'id': '46', 'manufacturer': 'dodge', 'model': 'caravan 2wd', 'displ': '3.8', 'year': '1999', 'cyl': '6', 'trans': 'auto(l4)', 'drv': 'f', 'cty': '15', 'hwy': '21', 'fl': 'r', 'class': 'minivan'}, {'id': '47', 'manufacturer': 'dodge', 'model': 'caravan 2wd', 'displ': '3.8', 'year': '2008', 'cyl': '6', 'trans': 'auto(l6)', 'drv': 'f', 'cty': '16', 'hwy': '23', 'fl': 'r', 'class': 'minivan'}, {'id': '48', 'manufacturer': 'dodge', 'model': 'caravan 2wd', 'displ': '4', 'year': '2008', 'cyl': '6', 'trans': 'auto(l6)', 'drv': 'f', 'cty': '16', 'hwy': '23', 'fl': 'r', 'class': 'minivan'}, {'id': '49', 'manufacturer': 'dodge', 'model': 'dakota pickup 4wd', 'displ': '3.7', 'year': '2008', 'cyl': '6', 'trans': 'manual(m6)', 'drv': '4', 'cty': '15', 'hwy': '19', 'fl': 'r', 'class': 'pickup'}, {'id': '50', 'manufacturer': 'dodge', 'model': 'dakota pickup 4wd', 'displ': '3.7', 'year': '2008', 'cyl': '6', 'trans': 'auto(l4)', 'drv': '4', 'cty': '14', 'hwy': '18', 'fl': 'r', 'class': 'pickup'}, {'id': '51', 'manufacturer': 'dodge', 'model': 'dakota pickup 4wd', 'displ': '3.9', 'year': '1999', 'cyl': '6', 'trans': 'auto(l4)', 'drv': '4', 'cty': '13', 'hwy': '17', 'fl': 'r', 'class': 'pickup'}, {'id': '52', 'manufacturer': 'dodge', 'model': 'dakota pickup 4wd', 'displ': '3.9', 'year': '1999', 'cyl': '6', 'trans': 'manual(m5)', 'drv': '4', 'cty': '14', 'hwy': '17', 'fl': 'r', 'class': 'pickup'}, {'id': '53', 'manufacturer': 'dodge', 'model': 'dakota pickup 4wd', 'displ': '4.7', 'year': '2008', 'cyl': '8', 'trans': 'auto(l5)', 'drv': '4', 'cty': '14', 'hwy': '19', 'fl': 'r', 'class': 'pickup'}, {'id': '54', 'manufacturer': 'dodge', 'model': 'dakota pickup 4wd', 'displ': '4.7', 'year': '2008', 'cyl': '8', 'trans': 'auto(l5)', 'drv': '4', 'cty': '14', 'hwy': '19', 'fl': 'r', 'class': 'pickup'}, {'id': '55', 'manufacturer': 'dodge', 'model': 'dakota pickup 4wd', 'displ': '4.7', 'year': '2008', 'cyl': '8', 'trans': 'auto(l5)', 'drv': '4', 'cty': '9', 'hwy': '12', 'fl': 'e', 'class': 'pickup'}, {'id': '56', 'manufacturer': 'dodge', 'model': 'dakota pickup 4wd', 'displ': '5.2', 'year': '1999', 'cyl': '8', 'trans': 'manual(m5)', 'drv': '4', 'cty': '11', 'hwy': '17', 'fl': 'r', 'class': 'pickup'}, {'id': '57', 'manufacturer': 'dodge', 'model': 'dakota pickup 4wd', 'displ': '5.2', 'year': '1999', 'cyl': '8', 'trans': 'auto(l4)', 'drv': '4', 'cty': '11', 'hwy': '15', 'fl': 'r', 'class': 'pickup'}, {'id': '58', 'manufacturer': 'dodge', 'model': 'durango 4wd', 'displ': '3.9', 'year': '1999', 'cyl': '6', 'trans': 'auto(l4)', 'drv': '4', 'cty': '13', 'hwy': '17', 'fl': 'r', 'class': 'suv'}, {'id': '59', 'manufacturer': 'dodge', 'model': 'durango 4wd', 'displ': '4.7', 'year': '2008', 'cyl': '8', 'trans': 'auto(l5)', 'drv': '4', 'cty': '13', 'hwy': '17', 'fl': 'r', 'class': 'suv'}, {'id': '60', 'manufacturer': 'dodge', 'model': 'durango 4wd', 'displ': '4.7', 'year': '2008', 'cyl': '8', 'trans': 'auto(l5)', 'drv': '4', 'cty': '9', 'hwy': '12', 'fl': 'e', 'class': 'suv'}, {'id': '61', 'manufacturer': 'dodge', 'model': 'durango 4wd', 'displ': '4.7', 'year': '2008', 'cyl': '8', 'trans': 'auto(l5)', 'drv': '4', 'cty': '13', 'hwy': '17', 'fl': 'r', 'class': 'suv'}, {'id': '62', 'manufacturer': 'dodge', 'model': 'durango 4wd', 'displ': '5.2', 'year': '1999', 'cyl': '8', 'trans': 'auto(l4)', 'drv': '4', 'cty': '11', 'hwy': '16', 'fl': 'r', 'class': 'suv'}, {'id': '63', 'manufacturer': 'dodge', 'model': 'durango 4wd', 'displ': '5.7', 'year': '2008', 'cyl': '8', 'trans': 'auto(l5)', 'drv': '4', 'cty': '13', 'hwy': '18', 'fl': 'r', 'class': 'suv'}, {'id': '64', 'manufacturer': 'dodge', 'model': 'durango 4wd', 'displ': '5.9', 'year': '1999', 'cyl': '8', 'trans': 'auto(l4)', 'drv': '4', 'cty': '11', 'hwy': '15', 'fl': 'r', 'class': 'suv'}, {'id': '65', 'manufacturer': 'dodge', 'model': 'ram 1500 pickup 4wd', 'displ': '4.7', 'year': '2008', 'cyl': '8', 'trans': 'manual(m6)', 'drv': '4', 'cty': '12', 'hwy': '16', 'fl': 'r', 'class': 'pickup'}, {'id': '66', 'manufacturer': 'dodge', 'model': 'ram 1500 pickup 4wd', 'displ': '4.7', 'year': '2008', 'cyl': '8', 'trans': 'auto(l5)', 'drv': '4', 'cty': '9', 'hwy': '12', 'fl': 'e', 'class': 'pickup'}, {'id': '67', 'manufacturer': 'dodge', 'model': 'ram 1500 pickup 4wd', 'displ': '4.7', 'year': '2008', 'cyl': '8', 'trans': 'auto(l5)', 'drv': '4', 'cty': '13', 'hwy': '17', 'fl': 'r', 'class': 'pickup'}, {'id': '68', 'manufacturer': 'dodge', 'model': 'ram 1500 pickup 4wd', 'displ': '4.7', 'year': '2008', 'cyl': '8', 'trans': 'auto(l5)', 'drv': '4', 'cty': '13', 'hwy': '17', 'fl': 'r', 'class': 'pickup'}, {'id': '69', 'manufacturer': 'dodge', 'model': 'ram 1500 pickup 4wd', 'displ': '4.7', 'year': '2008', 'cyl': '8', 'trans': 'manual(m6)', 'drv': '4', 'cty': '12', 'hwy': '16', 'fl': 'r', 'class': 'pickup'}, {'id': '70', 'manufacturer': 'dodge', 'model': 'ram 1500 pickup 4wd', 'displ': '4.7', 'year': '2008', 'cyl': '8', 'trans': 'manual(m6)', 'drv': '4', 'cty': '9', 'hwy': '12', 'fl': 'e', 'class': 'pickup'}, {'id': '71', 'manufacturer': 'dodge', 'model': 'ram 1500 pickup 4wd', 'displ': '5.2', 'year': '1999', 'cyl': '8', 'trans': 'auto(l4)', 'drv': '4', 'cty': '11', 'hwy': '15', 'fl': 'r', 'class': 'pickup'}, {'id': '72', 'manufacturer': 'dodge', 'model': 'ram 1500 pickup 4wd', 'displ': '5.2', 'year': '1999', 'cyl': '8', 'trans': 'manual(m5)', 'drv': '4', 'cty': '11', 'hwy': '16', 'fl': 'r', 'class': 'pickup'}, {'id': '73', 'manufacturer': 'dodge', 'model': 'ram 1500 pickup 4wd', 'displ': '5.7', 'year': '2008', 'cyl': '8', 'trans': 'auto(l5)', 'drv': '4', 'cty': '13', 'hwy': '17', 'fl': 'r', 'class': 'pickup'}, {'id': '74', 'manufacturer': 'dodge', 'model': 'ram 1500 pickup 4wd', 'displ': '5.9', 'year': '1999', 'cyl': '8', 'trans': 'auto(l4)', 'drv': '4', 'cty': '11', 'hwy': '15', 'fl': 'r', 'class': 'pickup'}, {'id': '75', 'manufacturer': 'ford', 'model': 'expedition 2wd', 'displ': '4.6', 'year': '1999', 'cyl': '8', 'trans': 'auto(l4)', 'drv': 'r', 'cty': '11', 'hwy': '17', 'fl': 'r', 'class': 'suv'}, {'id': '76', 'manufacturer': 'ford', 'model': 'expedition 2wd', 'displ': '5.4', 'year': '1999', 'cyl': '8', 'trans': 'auto(l4)', 'drv': 'r', 'cty': '11', 'hwy': '17', 'fl': 'r', 'class': 'suv'}, {'id': '77', 'manufacturer': 'ford', 'model': 'expedition 2wd', 'displ': '5.4', 'year': '2008', 'cyl': '8', 'trans': 'auto(l6)', 'drv': 'r', 'cty': '12', 'hwy': '18', 'fl': 'r', 'class': 'suv'}, {'id': '78', 'manufacturer': 'ford', 'model': 'explorer 4wd', 'displ': '4', 'year': '1999', 'cyl': '6', 'trans': 'auto(l5)', 'drv': '4', 'cty': '14', 'hwy': '17', 'fl': 'r', 'class': 'suv'}, {'id': '79', 'manufacturer': 'ford', 'model': 'explorer 4wd', 'displ': '4', 'year': '1999', 'cyl': '6', 'trans': 'manual(m5)', 'drv': '4', 'cty': '15', 'hwy': '19', 'fl': 'r', 'class': 'suv'}, {'id': '80', 'manufacturer': 'ford', 'model': 'explorer 4wd', 'displ': '4', 'year': '1999', 'cyl': '6', 'trans': 'auto(l5)', 'drv': '4', 'cty': '14', 'hwy': '17', 'fl': 'r', 'class': 'suv'}, {'id': '81', 'manufacturer': 'ford', 'model': 'explorer 4wd', 'displ': '4', 'year': '2008', 'cyl': '6', 'trans': 'auto(l5)', 'drv': '4', 'cty': '13', 'hwy': '19', 'fl': 'r', 'class': 'suv'}, {'id': '82', 'manufacturer': 'ford', 'model': 'explorer 4wd', 'displ': '4.6', 'year': '2008', 'cyl': '8', 'trans': 'auto(l6)', 'drv': '4', 'cty': '13', 'hwy': '19', 'fl': 'r', 'class': 'suv'}, {'id': '83', 'manufacturer': 'ford', 'model': 'explorer 4wd', 'displ': '5', 'year': '1999', 'cyl': '8', 'trans': 'auto(l4)', 'drv': '4', 'cty': '13', 'hwy': '17', 'fl': 'r', 'class': 'suv'}, {'id': '84', 'manufacturer': 'ford', 'model': 'f150 pickup 4wd', 'displ': '4.2', 'year': '1999', 'cyl': '6', 'trans': 'auto(l4)', 'drv': '4', 'cty': '14', 'hwy': '17', 'fl': 'r', 'class': 'pickup'}, {'id': '85', 'manufacturer': 'ford', 'model': 'f150 pickup 4wd', 'displ': '4.2', 'year': '1999', 'cyl': '6', 'trans': 'manual(m5)', 'drv': '4', 'cty': '14', 'hwy': '17', 'fl': 'r', 'class': 'pickup'}, {'id': '86', 'manufacturer': 'ford', 'model': 'f150 pickup 4wd', 'displ': '4.6', 'year': '1999', 'cyl': '8', 'trans': 'manual(m5)', 'drv': '4', 'cty': '13', 'hwy': '16', 'fl': 'r', 'class': 'pickup'}, {'id': '87', 'manufacturer': 'ford', 'model': 'f150 pickup 4wd', 'displ': '4.6', 'year': '1999', 'cyl': '8', 'trans': 'auto(l4)', 'drv': '4', 'cty': '13', 'hwy': '16', 'fl': 'r', 'class': 'pickup'}, {'id': '88', 'manufacturer': 'ford', 'model': 'f150 pickup 4wd', 'displ': '4.6', 'year': '2008', 'cyl': '8', 'trans': 'auto(l4)', 'drv': '4', 'cty': '13', 'hwy': '17', 'fl': 'r', 'class': 'pickup'}, {'id': '89', 'manufacturer': 'ford', 'model': 'f150 pickup 4wd', 'displ': '5.4', 'year': '1999', 'cyl': '8', 'trans': 'auto(l4)', 'drv': '4', 'cty': '11', 'hwy': '15', 'fl': 'r', 'class': 'pickup'}, {'id': '90', 'manufacturer': 'ford', 'model': 'f150 pickup 4wd', 'displ': '5.4', 'year': '2008', 'cyl': '8', 'trans': 'auto(l4)', 'drv': '4', 'cty': '13', 'hwy': '17', 'fl': 'r', 'class': 'pickup'}, {'id': '91', 'manufacturer': 'ford', 'model': 'mustang', 'displ': '3.8', 'year': '1999', 'cyl': '6', 'trans': 'manual(m5)', 'drv': 'r', 'cty': '18', 'hwy': '26', 'fl': 'r', 'class': 'subcompact'}, {'id': '92', 'manufacturer': 'ford', 'model': 'mustang', 'displ': '3.8', 'year': '1999', 'cyl': '6', 'trans': 'auto(l4)', 'drv': 'r', 'cty': '18', 'hwy': '25', 'fl': 'r', 'class': 'subcompact'}, {'id': '93', 'manufacturer': 'ford', 'model': 'mustang', 'displ': '4', 'year': '2008', 'cyl': '6', 'trans': 'manual(m5)', 'drv': 'r', 'cty': '17', 'hwy': '26', 'fl': 'r', 'class': 'subcompact'}, {'id': '94', 'manufacturer': 'ford', 'model': 'mustang', 'displ': '4', 'year': '2008', 'cyl': '6', 'trans': 'auto(l5)', 'drv': 'r', 'cty': '16', 'hwy': '24', 'fl': 'r', 'class': 'subcompact'}, {'id': '95', 'manufacturer': 'ford', 'model': 'mustang', 'displ': '4.6', 'year': '1999', 'cyl': '8', 'trans': 'auto(l4)', 'drv': 'r', 'cty': '15', 'hwy': '21', 'fl': 'r', 'class': 'subcompact'}, {'id': '96', 'manufacturer': 'ford', 'model': 'mustang', 'displ': '4.6', 'year': '1999', 'cyl': '8', 'trans': 'manual(m5)', 'drv': 'r', 'cty': '15', 'hwy': '22', 'fl': 'r', 'class': 'subcompact'}, {'id': '97', 'manufacturer': 'ford', 'model': 'mustang', 'displ': '4.6', 'year': '2008', 'cyl': '8', 'trans': 'manual(m5)', 'drv': 'r', 'cty': '15', 'hwy': '23', 'fl': 'r', 'class': 'subcompact'}, {'id': '98', 'manufacturer': 'ford', 'model': 'mustang', 'displ': '4.6', 'year': '2008', 'cyl': '8', 'trans': 'auto(l5)', 'drv': 'r', 'cty': '15', 'hwy': '22', 'fl': 'r', 'class': 'subcompact'}, {'id': '99', 'manufacturer': 'ford', 'model': 'mustang', 'displ': '5.4', 'year': '2008', 'cyl': '8', 'trans': 'manual(m6)', 'drv': 'r', 'cty': '14', 'hwy': '20', 'fl': 'p', 'class': 'subcompact'}, {'id': '100', 'manufacturer': 'honda', 'model': 'civic', 'displ': '1.6', 'year': '1999', 'cyl': '4', 'trans': 'manual(m5)', 'drv': 'f', 'cty': '28', 'hwy': '33', 'fl': 'r', 'class': 'subcompact'}, {'id': '101', 'manufacturer': 'honda', 'model': 'civic', 'displ': '1.6', 'year': '1999', 'cyl': '4', 'trans': 'auto(l4)', 'drv': 'f', 'cty': '24', 'hwy': '32', 'fl': 'r', 'class': 'subcompact'}, {'id': '102', 'manufacturer': 'honda', 'model': 'civic', 'displ': '1.6', 'year': '1999', 'cyl': '4', 'trans': 'manual(m5)', 'drv': 'f', 'cty': '25', 'hwy': '32', 'fl': 'r', 'class': 'subcompact'}, {'id': '103', 'manufacturer': 'honda', 'model': 'civic', 'displ': '1.6', 'year': '1999', 'cyl': '4', 'trans': 'manual(m5)', 'drv': 'f', 'cty': '23', 'hwy': '29', 'fl': 'p', 'class': 'subcompact'}, {'id': '104', 'manufacturer': 'honda', 'model': 'civic', 'displ': '1.6', 'year': '1999', 'cyl': '4', 'trans': 'auto(l4)', 'drv': 'f', 'cty': '24', 'hwy': '32', 'fl': 'r', 'class': 'subcompact'}, {'id': '105', 'manufacturer': 'honda', 'model': 'civic', 'displ': '1.8', 'year': '2008', 'cyl': '4', 'trans': 'manual(m5)', 'drv': 'f', 'cty': '26', 'hwy': '34', 'fl': 'r', 'class': 'subcompact'}, {'id': '106', 'manufacturer': 'honda', 'model': 'civic', 'displ': '1.8', 'year': '2008', 'cyl': '4', 'trans': 'auto(l5)', 'drv': 'f', 'cty': '25', 'hwy': '36', 'fl': 'r', 'class': 'subcompact'}, {'id': '107', 'manufacturer': 'honda', 'model': 'civic', 'displ': '1.8', 'year': '2008', 'cyl': '4', 'trans': 'auto(l5)', 'drv': 'f', 'cty': '24', 'hwy': '36', 'fl': 'c', 'class': 'subcompact'}, {'id': '108', 'manufacturer': 'honda', 'model': 'civic', 'displ': '2', 'year': '2008', 'cyl': '4', 'trans': 'manual(m6)', 'drv': 'f', 'cty': '21', 'hwy': '29', 'fl': 'p', 'class': 'subcompact'}, {'id': '109', 'manufacturer': 'hyundai', 'model': 'sonata', 'displ': '2.4', 'year': '1999', 'cyl': '4', 'trans': 'auto(l4)', 'drv': 'f', 'cty': '18', 'hwy': '26', 'fl': 'r', 'class': 'midsize'}, {'id': '110', 'manufacturer': 'hyundai', 'model': 'sonata', 'displ': '2.4', 'year': '1999', 'cyl': '4', 'trans': 'manual(m5)', 'drv': 'f', 'cty': '18', 'hwy': '27', 'fl': 'r', 'class': 'midsize'}, {'id': '111', 'manufacturer': 'hyundai', 'model': 'sonata', 'displ': '2.4', 'year': '2008', 'cyl': '4', 'trans': 'auto(l4)', 'drv': 'f', 'cty': '21', 'hwy': '30', 'fl': 'r', 'class': 'midsize'}, {'id': '112', 'manufacturer': 'hyundai', 'model': 'sonata', 'displ': '2.4', 'year': '2008', 'cyl': '4', 'trans': 'manual(m5)', 'drv': 'f', 'cty': '21', 'hwy': '31', 'fl': 'r', 'class': 'midsize'}, {'id': '113', 'manufacturer': 'hyundai', 'model': 'sonata', 'displ': '2.5', 'year': '1999', 'cyl': '6', 'trans': 'auto(l4)', 'drv': 'f', 'cty': '18', 'hwy': '26', 'fl': 'r', 'class': 'midsize'}, {'id': '114', 'manufacturer': 'hyundai', 'model': 'sonata', 'displ': '2.5', 'year': '1999', 'cyl': '6', 'trans': 'manual(m5)', 'drv': 'f', 'cty': '18', 'hwy': '26', 'fl': 'r', 'class': 'midsize'}, {'id': '115', 'manufacturer': 'hyundai', 'model': 'sonata', 'displ': '3.3', 'year': '2008', 'cyl': '6', 'trans': 'auto(l5)', 'drv': 'f', 'cty': '19', 'hwy': '28', 'fl': 'r', 'class': 'midsize'}, {'id': '116', 'manufacturer': 'hyundai', 'model': 'tiburon', 'displ': '2', 'year': '1999', 'cyl': '4', 'trans': 'auto(l4)', 'drv': 'f', 'cty': '19', 'hwy': '26', 'fl': 'r', 'class': 'subcompact'}, {'id': '117', 'manufacturer': 'hyundai', 'model': 'tiburon', 'displ': '2', 'year': '1999', 'cyl': '4', 'trans': 'manual(m5)', 'drv': 'f', 'cty': '19', 'hwy': '29', 'fl': 'r', 'class': 'subcompact'}, {'id': '118', 'manufacturer': 'hyundai', 'model': 'tiburon', 'displ': '2', 'year': '2008', 'cyl': '4', 'trans': 'manual(m5)', 'drv': 'f', 'cty': '20', 'hwy': '28', 'fl': 'r', 'class': 'subcompact'}, {'id': '119', 'manufacturer': 'hyundai', 'model': 'tiburon', 'displ': '2', 'year': '2008', 'cyl': '4', 'trans': 'auto(l4)', 'drv': 'f', 'cty': '20', 'hwy': '27', 'fl': 'r', 'class': 'subcompact'}, {'id': '120', 'manufacturer': 'hyundai', 'model': 'tiburon', 'displ': '2.7', 'year': '2008', 'cyl': '6', 'trans': 'auto(l4)', 'drv': 'f', 'cty': '17', 'hwy': '24', 'fl': 'r', 'class': 'subcompact'}, {'id': '121', 'manufacturer': 'hyundai', 'model': 'tiburon', 'displ': '2.7', 'year': '2008', 'cyl': '6', 'trans': 'manual(m6)', 'drv': 'f', 'cty': '16', 'hwy': '24', 'fl': 'r', 'class': 'subcompact'}, {'id': '122', 'manufacturer': 'hyundai', 'model': 'tiburon', 'displ': '2.7', 'year': '2008', 'cyl': '6', 'trans': 'manual(m5)', 'drv': 'f', 'cty': '17', 'hwy': '24', 'fl': 'r', 'class': 'subcompact'}, {'id': '123', 'manufacturer': 'jeep', 'model': 'grand cherokee 4wd', 'displ': '3', 'year': '2008', 'cyl': '6', 'trans': 'auto(l5)', 'drv': '4', 'cty': '17', 'hwy': '22', 'fl': 'd', 'class': 'suv'}, {'id': '124', 'manufacturer': 'jeep', 'model': 'grand cherokee 4wd', 'displ': '3.7', 'year': '2008', 'cyl': '6', 'trans': 'auto(l5)', 'drv': '4', 'cty': '15', 'hwy': '19', 'fl': 'r', 'class': 'suv'}, {'id': '125', 'manufacturer': 'jeep', 'model': 'grand cherokee 4wd', 'displ': '4', 'year': '1999', 'cyl': '6', 'trans': 'auto(l4)', 'drv': '4', 'cty': '15', 'hwy': '20', 'fl': 'r', 'class': 'suv'}, {'id': '126', 'manufacturer': 'jeep', 'model': 'grand cherokee 4wd', 'displ': '4.7', 'year': '1999', 'cyl': '8', 'trans': 'auto(l4)', 'drv': '4', 'cty': '14', 'hwy': '17', 'fl': 'r', 'class': 'suv'}, {'id': '127', 'manufacturer': 'jeep', 'model': 'grand cherokee 4wd', 'displ': '4.7', 'year': '2008', 'cyl': '8', 'trans': 'auto(l5)', 'drv': '4', 'cty': '9', 'hwy': '12', 'fl': 'e', 'class': 'suv'}, {'id': '128', 'manufacturer': 'jeep', 'model': 'grand cherokee 4wd', 'displ': '4.7', 'year': '2008', 'cyl': '8', 'trans': 'auto(l5)', 'drv': '4', 'cty': '14', 'hwy': '19', 'fl': 'r', 'class': 'suv'}, {'id': '129', 'manufacturer': 'jeep', 'model': 'grand cherokee 4wd', 'displ': '5.7', 'year': '2008', 'cyl': '8', 'trans': 'auto(l5)', 'drv': '4', 'cty': '13', 'hwy': '18', 'fl': 'r', 'class': 'suv'}, {'id': '130', 'manufacturer': 'jeep', 'model': 'grand cherokee 4wd', 'displ': '6.1', 'year': '2008', 'cyl': '8', 'trans': 'auto(l5)', 'drv': '4', 'cty': '11', 'hwy': '14', 'fl': 'p', 'class': 'suv'}, {'id': '131', 'manufacturer': 'land rover', 'model': 'range rover', 'displ': '4', 'year': '1999', 'cyl': '8', 'trans': 'auto(l4)', 'drv': '4', 'cty': '11', 'hwy': '15', 'fl': 'p', 'class': 'suv'}, {'id': '132', 'manufacturer': 'land rover', 'model': 'range rover', 'displ': '4.2', 'year': '2008', 'cyl': '8', 'trans': 'auto(s6)', 'drv': '4', 'cty': '12', 'hwy': '18', 'fl': 'r', 'class': 'suv'}, {'id': '133', 'manufacturer': 'land rover', 'model': 'range rover', 'displ': '4.4', 'year': '2008', 'cyl': '8', 'trans': 'auto(s6)', 'drv': '4', 'cty': '12', 'hwy': '18', 'fl': 'r', 'class': 'suv'}, {'id': '134', 'manufacturer': 'land rover', 'model': 'range rover', 'displ': '4.6', 'year': '1999', 'cyl': '8', 'trans': 'auto(l4)', 'drv': '4', 'cty': '11', 'hwy': '15', 'fl': 'p', 'class': 'suv'}, {'id': '135', 'manufacturer': 'lincoln', 'model': 'navigator 2wd', 'displ': '5.4', 'year': '1999', 'cyl': '8', 'trans': 'auto(l4)', 'drv': 'r', 'cty': '11', 'hwy': '17', 'fl': 'r', 'class': 'suv'}, {'id': '136', 'manufacturer': 'lincoln', 'model': 'navigator 2wd', 'displ': '5.4', 'year': '1999', 'cyl': '8', 'trans': 'auto(l4)', 'drv': 'r', 'cty': '11', 'hwy': '16', 'fl': 'p', 'class': 'suv'}, {'id': '137', 'manufacturer': 'lincoln', 'model': 'navigator 2wd', 'displ': '5.4', 'year': '2008', 'cyl': '8', 'trans': 'auto(l6)', 'drv': 'r', 'cty': '12', 'hwy': '18', 'fl': 'r', 'class': 'suv'}, {'id': '138', 'manufacturer': 'mercury', 'model': 'mountaineer 4wd', 'displ': '4', 'year': '1999', 'cyl': '6', 'trans': 'auto(l5)', 'drv': '4', 'cty': '14', 'hwy': '17', 'fl': 'r', 'class': 'suv'}, {'id': '139', 'manufacturer': 'mercury', 'model': 'mountaineer 4wd', 'displ': '4', 'year': '2008', 'cyl': '6', 'trans': 'auto(l5)', 'drv': '4', 'cty': '13', 'hwy': '19', 'fl': 'r', 'class': 'suv'}, {'id': '140', 'manufacturer': 'mercury', 'model': 'mountaineer 4wd', 'displ': '4.6', 'year': '2008', 'cyl': '8', 'trans': 'auto(l6)', 'drv': '4', 'cty': '13', 'hwy': '19', 'fl': 'r', 'class': 'suv'}, {'id': '141', 'manufacturer': 'mercury', 'model': 'mountaineer 4wd', 'displ': '5', 'year': '1999', 'cyl': '8', 'trans': 'auto(l4)', 'drv': '4', 'cty': '13', 'hwy': '17', 'fl': 'r', 'class': 'suv'}, {'id': '142', 'manufacturer': 'nissan', 'model': 'altima', 'displ': '2.4', 'year': '1999', 'cyl': '4', 'trans': 'manual(m5)', 'drv': 'f', 'cty': '21', 'hwy': '29', 'fl': 'r', 'class': 'compact'}, {'id': '143', 'manufacturer': 'nissan', 'model': 'altima', 'displ': '2.4', 'year': '1999', 'cyl': '4', 'trans': 'auto(l4)', 'drv': 'f', 'cty': '19', 'hwy': '27', 'fl': 'r', 'class': 'compact'}, {'id': '144', 'manufacturer': 'nissan', 'model': 'altima', 'displ': '2.5', 'year': '2008', 'cyl': '4', 'trans': 'auto(av)', 'drv': 'f', 'cty': '23', 'hwy': '31', 'fl': 'r', 'class': 'midsize'}, {'id': '145', 'manufacturer': 'nissan', 'model': 'altima', 'displ': '2.5', 'year': '2008', 'cyl': '4', 'trans': 'manual(m6)', 'drv': 'f', 'cty': '23', 'hwy': '32', 'fl': 'r', 'class': 'midsize'}, {'id': '146', 'manufacturer': 'nissan', 'model': 'altima', 'displ': '3.5', 'year': '2008', 'cyl': '6', 'trans': 'manual(m6)', 'drv': 'f', 'cty': '19', 'hwy': '27', 'fl': 'p', 'class': 'midsize'}, {'id': '147', 'manufacturer': 'nissan', 'model': 'altima', 'displ': '3.5', 'year': '2008', 'cyl': '6', 'trans': 'auto(av)', 'drv': 'f', 'cty': '19', 'hwy': '26', 'fl': 'p', 'class': 'midsize'}, {'id': '148', 'manufacturer': 'nissan', 'model': 'maxima', 'displ': '3', 'year': '1999', 'cyl': '6', 'trans': 'auto(l4)', 'drv': 'f', 'cty': '18', 'hwy': '26', 'fl': 'r', 'class': 'midsize'}, {'id': '149', 'manufacturer': 'nissan', 'model': 'maxima', 'displ': '3', 'year': '1999', 'cyl': '6', 'trans': 'manual(m5)', 'drv': 'f', 'cty': '19', 'hwy': '25', 'fl': 'r', 'class': 'midsize'}, {'id': '150', 'manufacturer': 'nissan', 'model': 'maxima', 'displ': '3.5', 'year': '2008', 'cyl': '6', 'trans': 'auto(av)', 'drv': 'f', 'cty': '19', 'hwy': '25', 'fl': 'p', 'class': 'midsize'}, {'id': '151', 'manufacturer': 'nissan', 'model': 'pathfinder 4wd', 'displ': '3.3', 'year': '1999', 'cyl': '6', 'trans': 'auto(l4)', 'drv': '4', 'cty': '14', 'hwy': '17', 'fl': 'r', 'class': 'suv'}, {'id': '152', 'manufacturer': 'nissan', 'model': 'pathfinder 4wd', 'displ': '3.3', 'year': '1999', 'cyl': '6', 'trans': 'manual(m5)', 'drv': '4', 'cty': '15', 'hwy': '17', 'fl': 'r', 'class': 'suv'}, {'id': '153', 'manufacturer': 'nissan', 'model': 'pathfinder 4wd', 'displ': '4', 'year': '2008', 'cyl': '6', 'trans': 'auto(l5)', 'drv': '4', 'cty': '14', 'hwy': '20', 'fl': 'p', 'class': 'suv'}, {'id': '154', 'manufacturer': 'nissan', 'model': 'pathfinder 4wd', 'displ': '5.6', 'year': '2008', 'cyl': '8', 'trans': 'auto(s5)', 'drv': '4', 'cty': '12', 'hwy': '18', 'fl': 'p', 'class': 'suv'}, {'id': '155', 'manufacturer': 'pontiac', 'model': 'grand prix', 'displ': '3.1', 'year': '1999', 'cyl': '6', 'trans': 'auto(l4)', 'drv': 'f', 'cty': '18', 'hwy': '26', 'fl': 'r', 'class': 'midsize'}, {'id': '156', 'manufacturer': 'pontiac', 'model': 'grand prix', 'displ': '3.8', 'year': '1999', 'cyl': '6', 'trans': 'auto(l4)', 'drv': 'f', 'cty': '16', 'hwy': '26', 'fl': 'p', 'class': 'midsize'}, {'id': '157', 'manufacturer': 'pontiac', 'model': 'grand prix', 'displ': '3.8', 'year': '1999', 'cyl': '6', 'trans': 'auto(l4)', 'drv': 'f', 'cty': '17', 'hwy': '27', 'fl': 'r', 'class': 'midsize'}, {'id': '158', 'manufacturer': 'pontiac', 'model': 'grand prix', 'displ': '3.8', 'year': '2008', 'cyl': '6', 'trans': 'auto(l4)', 'drv': 'f', 'cty': '18', 'hwy': '28', 'fl': 'r', 'class': 'midsize'}, {'id': '159', 'manufacturer': 'pontiac', 'model': 'grand prix', 'displ': '5.3', 'year': '2008', 'cyl': '8', 'trans': 'auto(s4)', 'drv': 'f', 'cty': '16', 'hwy': '25', 'fl': 'p', 'class': 'midsize'}, {'id': '160', 'manufacturer': 'subaru', 'model': 'forester awd', 'displ': '2.5', 'year': '1999', 'cyl': '4', 'trans': 'manual(m5)', 'drv': '4', 'cty': '18', 'hwy': '25', 'fl': 'r', 'class': 'suv'}, {'id': '161', 'manufacturer': 'subaru', 'model': 'forester awd', 'displ': '2.5', 'year': '1999', 'cyl': '4', 'trans': 'auto(l4)', 'drv': '4', 'cty': '18', 'hwy': '24', 'fl': 'r', 'class': 'suv'}, {'id': '162', 'manufacturer': 'subaru', 'model': 'forester awd', 'displ': '2.5', 'year': '2008', 'cyl': '4', 'trans': 'manual(m5)', 'drv': '4', 'cty': '20', 'hwy': '27', 'fl': 'r', 'class': 'suv'}, {'id': '163', 'manufacturer': 'subaru', 'model': 'forester awd', 'displ': '2.5', 'year': '2008', 'cyl': '4', 'trans': 'manual(m5)', 'drv': '4', 'cty': '19', 'hwy': '25', 'fl': 'p', 'class': 'suv'}, {'id': '164', 'manufacturer': 'subaru', 'model': 'forester awd', 'displ': '2.5', 'year': '2008', 'cyl': '4', 'trans': 'auto(l4)', 'drv': '4', 'cty': '20', 'hwy': '26', 'fl': 'r', 'class': 'suv'}, {'id': '165', 'manufacturer': 'subaru', 'model': 'forester awd', 'displ': '2.5', 'year': '2008', 'cyl': '4', 'trans': 'auto(l4)', 'drv': '4', 'cty': '18', 'hwy': '23', 'fl': 'p', 'class': 'suv'}, {'id': '166', 'manufacturer': 'subaru', 'model': 'impreza awd', 'displ': '2.2', 'year': '1999', 'cyl': '4', 'trans': 'auto(l4)', 'drv': '4', 'cty': '21', 'hwy': '26', 'fl': 'r', 'class': 'subcompact'}, {'id': '167', 'manufacturer': 'subaru', 'model': 'impreza awd', 'displ': '2.2', 'year': '1999', 'cyl': '4', 'trans': 'manual(m5)', 'drv': '4', 'cty': '19', 'hwy': '26', 'fl': 'r', 'class': 'subcompact'}, {'id': '168', 'manufacturer': 'subaru', 'model': 'impreza awd', 'displ': '2.5', 'year': '1999', 'cyl': '4', 'trans': 'manual(m5)', 'drv': '4', 'cty': '19', 'hwy': '26', 'fl': 'r', 'class': 'subcompact'}, {'id': '169', 'manufacturer': 'subaru', 'model': 'impreza awd', 'displ': '2.5', 'year': '1999', 'cyl': '4', 'trans': 'auto(l4)', 'drv': '4', 'cty': '19', 'hwy': '26', 'fl': 'r', 'class': 'subcompact'}, {'id': '170', 'manufacturer': 'subaru', 'model': 'impreza awd', 'displ': '2.5', 'year': '2008', 'cyl': '4', 'trans': 'auto(s4)', 'drv': '4', 'cty': '20', 'hwy': '25', 'fl': 'p', 'class': 'compact'}, {'id': '171', 'manufacturer': 'subaru', 'model': 'impreza awd', 'displ': '2.5', 'year': '2008', 'cyl': '4', 'trans': 'auto(s4)', 'drv': '4', 'cty': '20', 'hwy': '27', 'fl': 'r', 'class': 'compact'}, {'id': '172', 'manufacturer': 'subaru', 'model': 'impreza awd', 'displ': '2.5', 'year': '2008', 'cyl': '4', 'trans': 'manual(m5)', 'drv': '4', 'cty': '19', 'hwy': '25', 'fl': 'p', 'class': 'compact'}, {'id': '173', 'manufacturer': 'subaru', 'model': 'impreza awd', 'displ': '2.5', 'year': '2008', 'cyl': '4', 'trans': 'manual(m5)', 'drv': '4', 'cty': '20', 'hwy': '27', 'fl': 'r', 'class': 'compact'}, {'id': '174', 'manufacturer': 'toyota', 'model': '4runner 4wd', 'displ': '2.7', 'year': '1999', 'cyl': '4', 'trans': 'manual(m5)', 'drv': '4', 'cty': '15', 'hwy': '20', 'fl': 'r', 'class': 'suv'}, {'id': '175', 'manufacturer': 'toyota', 'model': '4runner 4wd', 'displ': '2.7', 'year': '1999', 'cyl': '4', 'trans': 'auto(l4)', 'drv': '4', 'cty': '16', 'hwy': '20', 'fl': 'r', 'class': 'suv'}, {'id': '176', 'manufacturer': 'toyota', 'model': '4runner 4wd', 'displ': '3.4', 'year': '1999', 'cyl': '6', 'trans': 'auto(l4)', 'drv': '4', 'cty': '15', 'hwy': '19', 'fl': 'r', 'class': 'suv'}, {'id': '177', 'manufacturer': 'toyota', 'model': '4runner 4wd', 'displ': '3.4', 'year': '1999', 'cyl': '6', 'trans': 'manual(m5)', 'drv': '4', 'cty': '15', 'hwy': '17', 'fl': 'r', 'class': 'suv'}, {'id': '178', 'manufacturer': 'toyota', 'model': '4runner 4wd', 'displ': '4', 'year': '2008', 'cyl': '6', 'trans': 'auto(l5)', 'drv': '4', 'cty': '16', 'hwy': '20', 'fl': 'r', 'class': 'suv'}, {'id': '179', 'manufacturer': 'toyota', 'model': '4runner 4wd', 'displ': '4.7', 'year': '2008', 'cyl': '8', 'trans': 'auto(l5)', 'drv': '4', 'cty': '14', 'hwy': '17', 'fl': 'r', 'class': 'suv'}, {'id': '180', 'manufacturer': 'toyota', 'model': 'camry', 'displ': '2.2', 'year': '1999', 'cyl': '4', 'trans': 'manual(m5)', 'drv': 'f', 'cty': '21', 'hwy': '29', 'fl': 'r', 'class': 'midsize'}, {'id': '181', 'manufacturer': 'toyota', 'model': 'camry', 'displ': '2.2', 'year': '1999', 'cyl': '4', 'trans': 'auto(l4)', 'drv': 'f', 'cty': '21', 'hwy': '27', 'fl': 'r', 'class': 'midsize'}, {'id': '182', 'manufacturer': 'toyota', 'model': 'camry', 'displ': '2.4', 'year': '2008', 'cyl': '4', 'trans': 'manual(m5)', 'drv': 'f', 'cty': '21', 'hwy': '31', 'fl': 'r', 'class': 'midsize'}, {'id': '183', 'manufacturer': 'toyota', 'model': 'camry', 'displ': '2.4', 'year': '2008', 'cyl': '4', 'trans': 'auto(l5)', 'drv': 'f', 'cty': '21', 'hwy': '31', 'fl': 'r', 'class': 'midsize'}, {'id': '184', 'manufacturer': 'toyota', 'model': 'camry', 'displ': '3', 'year': '1999', 'cyl': '6', 'trans': 'auto(l4)', 'drv': 'f', 'cty': '18', 'hwy': '26', 'fl': 'r', 'class': 'midsize'}, {'id': '185', 'manufacturer': 'toyota', 'model': 'camry', 'displ': '3', 'year': '1999', 'cyl': '6', 'trans': 'manual(m5)', 'drv': 'f', 'cty': '18', 'hwy': '26', 'fl': 'r', 'class': 'midsize'}, {'id': '186', 'manufacturer': 'toyota', 'model': 'camry', 'displ': '3.5', 'year': '2008', 'cyl': '6', 'trans': 'auto(s6)', 'drv': 'f', 'cty': '19', 'hwy': '28', 'fl': 'r', 'class': 'midsize'}, {'id': '187', 'manufacturer': 'toyota', 'model': 'camry solara', 'displ': '2.2', 'year': '1999', 'cyl': '4', 'trans': 'auto(l4)', 'drv': 'f', 'cty': '21', 'hwy': '27', 'fl': 'r', 'class': 'compact'}, {'id': '188', 'manufacturer': 'toyota', 'model': 'camry solara', 'displ': '2.2', 'year': '1999', 'cyl': '4', 'trans': 'manual(m5)', 'drv': 'f', 'cty': '21', 'hwy': '29', 'fl': 'r', 'class': 'compact'}, {'id': '189', 'manufacturer': 'toyota', 'model': 'camry solara', 'displ': '2.4', 'year': '2008', 'cyl': '4', 'trans': 'manual(m5)', 'drv': 'f', 'cty': '21', 'hwy': '31', 'fl': 'r', 'class': 'compact'}, {'id': '190', 'manufacturer': 'toyota', 'model': 'camry solara', 'displ': '2.4', 'year': '2008', 'cyl': '4', 'trans': 'auto(s5)', 'drv': 'f', 'cty': '22', 'hwy': '31', 'fl': 'r', 'class': 'compact'}, {'id': '191', 'manufacturer': 'toyota', 'model': 'camry solara', 'displ': '3', 'year': '1999', 'cyl': '6', 'trans': 'auto(l4)', 'drv': 'f', 'cty': '18', 'hwy': '26', 'fl': 'r', 'class': 'compact'}, {'id': '192', 'manufacturer': 'toyota', 'model': 'camry solara', 'displ': '3', 'year': '1999', 'cyl': '6', 'trans': 'manual(m5)', 'drv': 'f', 'cty': '18', 'hwy': '26', 'fl': 'r', 'class': 'compact'}, {'id': '193', 'manufacturer': 'toyota', 'model': 'camry solara', 'displ': '3.3', 'year': '2008', 'cyl': '6', 'trans': 'auto(s5)', 'drv': 'f', 'cty': '18', 'hwy': '27', 'fl': 'r', 'class': 'compact'}, {'id': '194', 'manufacturer': 'toyota', 'model': 'corolla', 'displ': '1.8', 'year': '1999', 'cyl': '4', 'trans': 'auto(l3)', 'drv': 'f', 'cty': '24', 'hwy': '30', 'fl': 'r', 'class': 'compact'}, {'id': '195', 'manufacturer': 'toyota', 'model': 'corolla', 'displ': '1.8', 'year': '1999', 'cyl': '4', 'trans': 'auto(l4)', 'drv': 'f', 'cty': '24', 'hwy': '33', 'fl': 'r', 'class': 'compact'}, {'id': '196', 'manufacturer': 'toyota', 'model': 'corolla', 'displ': '1.8', 'year': '1999', 'cyl': '4', 'trans': 'manual(m5)', 'drv': 'f', 'cty': '26', 'hwy': '35', 'fl': 'r', 'class': 'compact'}, {'id': '197', 'manufacturer': 'toyota', 'model': 'corolla', 'displ': '1.8', 'year': '2008', 'cyl': '4', 'trans': 'manual(m5)', 'drv': 'f', 'cty': '28', 'hwy': '37', 'fl': 'r', 'class': 'compact'}, {'id': '198', 'manufacturer': 'toyota', 'model': 'corolla', 'displ': '1.8', 'year': '2008', 'cyl': '4', 'trans': 'auto(l4)', 'drv': 'f', 'cty': '26', 'hwy': '35', 'fl': 'r', 'class': 'compact'}, {'id': '199', 'manufacturer': 'toyota', 'model': 'land cruiser wagon 4wd', 'displ': '4.7', 'year': '1999', 'cyl': '8', 'trans': 'auto(l4)', 'drv': '4', 'cty': '11', 'hwy': '15', 'fl': 'r', 'class': 'suv'}, {'id': '200', 'manufacturer': 'toyota', 'model': 'land cruiser wagon 4wd', 'displ': '5.7', 'year': '2008', 'cyl': '8', 'trans': 'auto(s6)', 'drv': '4', 'cty': '13', 'hwy': '18', 'fl': 'r', 'class': 'suv'}, {'id': '201', 'manufacturer': 'toyota', 'model': 'toyota tacoma 4wd', 'displ': '2.7', 'year': '1999', 'cyl': '4', 'trans': 'manual(m5)', 'drv': '4', 'cty': '15', 'hwy': '20', 'fl': 'r', 'class': 'pickup'}, {'id': '202', 'manufacturer': 'toyota', 'model': 'toyota tacoma 4wd', 'displ': '2.7', 'year': '1999', 'cyl': '4', 'trans': 'auto(l4)', 'drv': '4', 'cty': '16', 'hwy': '20', 'fl': 'r', 'class': 'pickup'}, {'id': '203', 'manufacturer': 'toyota', 'model': 'toyota tacoma 4wd', 'displ': '2.7', 'year': '2008', 'cyl': '4', 'trans': 'manual(m5)', 'drv': '4', 'cty': '17', 'hwy': '22', 'fl': 'r', 'class': 'pickup'}, {'id': '204', 'manufacturer': 'toyota', 'model': 'toyota tacoma 4wd', 'displ': '3.4', 'year': '1999', 'cyl': '6', 'trans': 'manual(m5)', 'drv': '4', 'cty': '15', 'hwy': '17', 'fl': 'r', 'class': 'pickup'}, {'id': '205', 'manufacturer': 'toyota', 'model': 'toyota tacoma 4wd', 'displ': '3.4', 'year': '1999', 'cyl': '6', 'trans': 'auto(l4)', 'drv': '4', 'cty': '15', 'hwy': '19', 'fl': 'r', 'class': 'pickup'}, {'id': '206', 'manufacturer': 'toyota', 'model': 'toyota tacoma 4wd', 'displ': '4', 'year': '2008', 'cyl': '6', 'trans': 'manual(m6)', 'drv': '4', 'cty': '15', 'hwy': '18', 'fl': 'r', 'class': 'pickup'}, {'id': '207', 'manufacturer': 'toyota', 'model': 'toyota tacoma 4wd', 'displ': '4', 'year': '2008', 'cyl': '6', 'trans': 'auto(l5)', 'drv': '4', 'cty': '16', 'hwy': '20', 'fl': 'r', 'class': 'pickup'}, {'id': '208', 'manufacturer': 'volkswagen', 'model': 'gti', 'displ': '2', 'year': '1999', 'cyl': '4', 'trans': 'manual(m5)', 'drv': 'f', 'cty': '21', 'hwy': '29', 'fl': 'r', 'class': 'compact'}, {'id': '209', 'manufacturer': 'volkswagen', 'model': 'gti', 'displ': '2', 'year': '1999', 'cyl': '4', 'trans': 'auto(l4)', 'drv': 'f', 'cty': '19', 'hwy': '26', 'fl': 'r', 'class': 'compact'}, {'id': '210', 'manufacturer': 'volkswagen', 'model': 'gti', 'displ': '2', 'year': '2008', 'cyl': '4', 'trans': 'manual(m6)', 'drv': 'f', 'cty': '21', 'hwy': '29', 'fl': 'p', 'class': 'compact'}, {'id': '211', 'manufacturer': 'volkswagen', 'model': 'gti', 'displ': '2', 'year': '2008', 'cyl': '4', 'trans': 'auto(s6)', 'drv': 'f', 'cty': '22', 'hwy': '29', 'fl': 'p', 'class': 'compact'}, {'id': '212', 'manufacturer': 'volkswagen', 'model': 'gti', 'displ': '2.8', 'year': '1999', 'cyl': '6', 'trans': 'manual(m5)', 'drv': 'f', 'cty': '17', 'hwy': '24', 'fl': 'r', 'class': 'compact'}, {'id': '213', 'manufacturer': 'volkswagen', 'model': 'jetta', 'displ': '1.9', 'year': '1999', 'cyl': '4', 'trans': 'manual(m5)', 'drv': 'f', 'cty': '33', 'hwy': '44', 'fl': 'd', 'class': 'compact'}, {'id': '214', 'manufacturer': 'volkswagen', 'model': 'jetta', 'displ': '2', 'year': '1999', 'cyl': '4', 'trans': 'manual(m5)', 'drv': 'f', 'cty': '21', 'hwy': '29', 'fl': 'r', 'class': 'compact'}, {'id': '215', 'manufacturer': 'volkswagen', 'model': 'jetta', 'displ': '2', 'year': '1999', 'cyl': '4', 'trans': 'auto(l4)', 'drv': 'f', 'cty': '19', 'hwy': '26', 'fl': 'r', 'class': 'compact'}, {'id': '216', 'manufacturer': 'volkswagen', 'model': 'jetta', 'displ': '2', 'year': '2008', 'cyl': '4', 'trans': 'auto(s6)', 'drv': 'f', 'cty': '22', 'hwy': '29', 'fl': 'p', 'class': 'compact'}, {'id': '217', 'manufacturer': 'volkswagen', 'model': 'jetta', 'displ': '2', 'year': '2008', 'cyl': '4', 'trans': 'manual(m6)', 'drv': 'f', 'cty': '21', 'hwy': '29', 'fl': 'p', 'class': 'compact'}, {'id': '218', 'manufacturer': 'volkswagen', 'model': 'jetta', 'displ': '2.5', 'year': '2008', 'cyl': '5', 'trans': 'auto(s6)', 'drv': 'f', 'cty': '21', 'hwy': '29', 'fl': 'r', 'class': 'compact'}, {'id': '219', 'manufacturer': 'volkswagen', 'model': 'jetta', 'displ': '2.5', 'year': '2008', 'cyl': '5', 'trans': 'manual(m5)', 'drv': 'f', 'cty': '21', 'hwy': '29', 'fl': 'r', 'class': 'compact'}, {'id': '220', 'manufacturer': 'volkswagen', 'model': 'jetta', 'displ': '2.8', 'year': '1999', 'cyl': '6', 'trans': 'auto(l4)', 'drv': 'f', 'cty': '16', 'hwy': '23', 'fl': 'r', 'class': 'compact'}, {'id': '221', 'manufacturer': 'volkswagen', 'model': 'jetta', 'displ': '2.8', 'year': '1999', 'cyl': '6', 'trans': 'manual(m5)', 'drv': 'f', 'cty': '17', 'hwy': '24', 'fl': 'r', 'class': 'compact'}, {'id': '222', 'manufacturer': 'volkswagen', 'model': 'new beetle', 'displ': '1.9', 'year': '1999', 'cyl': '4', 'trans': 'manual(m5)', 'drv': 'f', 'cty': '35', 'hwy': '44', 'fl': 'd', 'class': 'subcompact'}, {'id': '223', 'manufacturer': 'volkswagen', 'model': 'new beetle', 'displ': '1.9', 'year': '1999', 'cyl': '4', 'trans': 'auto(l4)', 'drv': 'f', 'cty': '29', 'hwy': '41', 'fl': 'd', 'class': 'subcompact'}, {'id': '224', 'manufacturer': 'volkswagen', 'model': 'new beetle', 'displ': '2', 'year': '1999', 'cyl': '4', 'trans': 'manual(m5)', 'drv': 'f', 'cty': '21', 'hwy': '29', 'fl': 'r', 'class': 'subcompact'}, {'id': '225', 'manufacturer': 'volkswagen', 'model': 'new beetle', 'displ': '2', 'year': '1999', 'cyl': '4', 'trans': 'auto(l4)', 'drv': 'f', 'cty': '19', 'hwy': '26', 'fl': 'r', 'class': 'subcompact'}, {'id': '226', 'manufacturer': 'volkswagen', 'model': 'new beetle', 'displ': '2.5', 'year': '2008', 'cyl': '5', 'trans': 'manual(m5)', 'drv': 'f', 'cty': '20', 'hwy': '28', 'fl': 'r', 'class': 'subcompact'}, {'id': '227', 'manufacturer': 'volkswagen', 'model': 'new beetle', 'displ': '2.5', 'year': '2008', 'cyl': '5', 'trans': 'auto(s6)', 'drv': 'f', 'cty': '20', 'hwy': '29', 'fl': 'r', 'class': 'subcompact'}, {'id': '228', 'manufacturer': 'volkswagen', 'model': 'passat', 'displ': '1.8', 'year': '1999', 'cyl': '4', 'trans': 'manual(m5)', 'drv': 'f', 'cty': '21', 'hwy': '29', 'fl': 'p', 'class': 'midsize'}, {'id': '229', 'manufacturer': 'volkswagen', 'model': 'passat', 'displ': '1.8', 'year': '1999', 'cyl': '4', 'trans': 'auto(l5)', 'drv': 'f', 'cty': '18', 'hwy': '29', 'fl': 'p', 'class': 'midsize'}, {'id': '230', 'manufacturer': 'volkswagen', 'model': 'passat', 'displ': '2', 'year': '2008', 'cyl': '4', 'trans': 'auto(s6)', 'drv': 'f', 'cty': '19', 'hwy': '28', 'fl': 'p', 'class': 'midsize'}, {'id': '231', 'manufacturer': 'volkswagen', 'model': 'passat', 'displ': '2', 'year': '2008', 'cyl': '4', 'trans': 'manual(m6)', 'drv': 'f', 'cty': '21', 'hwy': '29', 'fl': 'p', 'class': 'midsize'}, {'id': '232', 'manufacturer': 'volkswagen', 'model': 'passat', 'displ': '2.8', 'year': '1999', 'cyl': '6', 'trans': 'auto(l5)', 'drv': 'f', 'cty': '16', 'hwy': '26', 'fl': 'p', 'class': 'midsize'}, {'id': '233', 'manufacturer': 'volkswagen', 'model': 'passat', 'displ': '2.8', 'year': '1999', 'cyl': '6', 'trans': 'manual(m5)', 'drv': 'f', 'cty': '18', 'hwy': '26', 'fl': 'p', 'class': 'midsize'}, {'id': '234', 'manufacturer': 'volkswagen', 'model': 'passat', 'displ': '3.6', 'year': '2008', 'cyl': '6', 'trans': 'auto(s6)', 'drv': 'f', 'cty': '17', 'hwy': '26', 'fl': 'p', 'class': 'midsize'}]\n"
     ]
    }
   ],
   "source": [
    "print(ListOFDictionaryCSV)"
   ]
  },
  {
   "cell_type": "markdown",
   "id": "0b4422eb",
   "metadata": {},
   "source": [
    "## Manipulation Of CSV File"
   ]
  },
  {
   "cell_type": "code",
   "execution_count": 14,
   "id": "366a7cc2",
   "metadata": {},
   "outputs": [
    {
     "data": {
      "text/plain": [
       "234"
      ]
     },
     "execution_count": 14,
     "metadata": {},
     "output_type": "execute_result"
    }
   ],
   "source": [
    "#Lets find total number of datasets in our csv file\n",
    "len(ListOFDictionaryCSV)"
   ]
  },
  {
   "cell_type": "code",
   "execution_count": 17,
   "id": "1d775a4d",
   "metadata": {},
   "outputs": [
    {
     "data": {
      "text/plain": [
       "dict_keys(['id', 'manufacturer', 'model', 'displ', 'year', 'cyl', 'trans', 'drv', 'cty', 'hwy', 'fl', 'class'])"
      ]
     },
     "execution_count": 17,
     "metadata": {},
     "output_type": "execute_result"
    }
   ],
   "source": [
    "#Lets now see the keys of this file\n",
    "ListOFDictionaryCSV[0].keys()"
   ]
  },
  {
   "cell_type": "code",
   "execution_count": 18,
   "id": "f2301ffa",
   "metadata": {},
   "outputs": [
    {
     "data": {
      "text/plain": [
       "dict_keys(['id', 'manufacturer', 'model', 'displ', 'year', 'cyl', 'trans', 'drv', 'cty', 'hwy', 'fl', 'class'])"
      ]
     },
     "execution_count": 18,
     "metadata": {},
     "output_type": "execute_result"
    }
   ],
   "source": [
    "ListOFDictionaryCSV[1].keys()"
   ]
  },
  {
   "cell_type": "markdown",
   "id": "ae69f220",
   "metadata": {},
   "source": [
    "As observable keys will all be the same regardless of the row"
   ]
  },
  {
   "cell_type": "code",
   "execution_count": 28,
   "id": "77024783",
   "metadata": {},
   "outputs": [],
   "source": [
    "#Lets find the average fuel consumption of a nation for vehicles driving in city\n",
    "sumOfAveragesOfFuelConsumedPerCity=0\n",
    "for i in ListOFDictionaryCSV:\n",
    "    sumOfAveragesOfFuelConsumedPerCity=sumOfAveragesOfFuelConsumedPerCity+float(i['cty'])#All the values in dictionary were\n",
    "#What above code does is it accesses the data stored in each row of cty key              #in string so inorder to add we \n",
    "#Now to find national average we will find the average of cities                         #had to convert it into float.\n",
    "NationalAverage=sumOfAveragesOfFuelConsumedPerCity/len(ListOFDictionaryCSV)"
   ]
  },
  {
   "cell_type": "code",
   "execution_count": 24,
   "id": "625736f3",
   "metadata": {},
   "outputs": [
    {
     "data": {
      "text/plain": [
       "16.858974358974358"
      ]
     },
     "execution_count": 24,
     "metadata": {},
     "output_type": "execute_result"
    }
   ],
   "source": [
    "NationalAverage"
   ]
  },
  {
   "cell_type": "code",
   "execution_count": 26,
   "id": "840831f5",
   "metadata": {},
   "outputs": [],
   "source": [
    "#Let find the average fuel consumption of nation for vehicle driving on highways\n",
    "sumOfAveragesOfFuelConsumedPerHighway=0\n",
    "for i in ListOFDictionaryCSV:\n",
    "    sumOfAveragesOfFuelConsumedPerHighway=sumOfAveragesOfFuelConsumedPerHighway+float(i['hwy'])\n",
    "NationalAverage=sumOfAveragesOfFuelConsumedPerHighway/len(ListOFDictionaryCSV)"
   ]
  },
  {
   "cell_type": "code",
   "execution_count": 27,
   "id": "d400b565",
   "metadata": {},
   "outputs": [
    {
     "data": {
      "text/plain": [
       "23.44017094017094"
      ]
     },
     "execution_count": 27,
     "metadata": {},
     "output_type": "execute_result"
    }
   ],
   "source": [
    "NationalAverage"
   ]
  },
  {
   "cell_type": "code",
   "execution_count": 30,
   "id": "749e3a73",
   "metadata": {},
   "outputs": [
    {
     "name": "stdout",
     "output_type": "stream",
     "text": [
      "{'8', '4', '6', '5'}\n"
     ]
    }
   ],
   "source": [
    "#Lets print out the unique number of number of cylinders present in our car dataset\n",
    "#Note to produce unique value we generally use the set datatype\n",
    "setCylinder=set()\n",
    "for i in ListOFDictionaryCSV:\n",
    "    setCylinder.add(i['cyl'])\n",
    "print(setCylinder)"
   ]
  },
  {
   "cell_type": "code",
   "execution_count": 33,
   "id": "b8d3375b",
   "metadata": {},
   "outputs": [
    {
     "name": "stdout",
     "output_type": "stream",
     "text": [
      "City average of 4 cylinder vehicles is  21.012345679012345\n",
      "City average of 5 cylinder vehicles is  20.5\n",
      "City average of 6 cylinder vehicles is  16.21518987341772\n",
      "City average of 8 cylinder vehicles is  12.571428571428571\n"
     ]
    }
   ],
   "source": [
    "#Now we need to segregate cars on the basis of the number of engines available in them. Then we need to find average city \n",
    "#mpg for each catagory.\n",
    "\n",
    "#Here is a bit of information on cars. Cars generally come with 3 cylinder configrations. 4 cylinder,5 cylinder,6 cylinder and 8\n",
    "#cylinder configration.We simply need to divide it into these 3 catagories and find the average.\n",
    "\n",
    "#Now in this section of code we simply gonna segregate our elements\n",
    "cylinder4=[]\n",
    "cylinder5=[]\n",
    "cylinder6=[]\n",
    "cylinder8=[]\n",
    "for i in ListOFDictionaryCSV:\n",
    "    if i['cyl']=='4':\n",
    "        cylinder4.append(float(i['cty']))\n",
    "    elif i['cyl']=='5':\n",
    "        cylinder5.append(float(i['cty']))\n",
    "    elif i['cyl']=='6':\n",
    "        cylinder6.append(float(i['cty']))\n",
    "    elif i['cyl']=='8':\n",
    "        cylinder8.append(float(i['cty']))\n",
    "    else:\n",
    "        print(\"Non-explainable error\")\n",
    "\n",
    "#Now we are find the sum of each segregated group\n",
    "sumCylinder4=0\n",
    "sumCylinder5=0\n",
    "sumCylinder6=0\n",
    "sumCylinder8=0\n",
    "for i in cylinder4:\n",
    "    sumCylinder4=sumCylinder4+i\n",
    "for i in cylinder5:\n",
    "    sumCylinder5=sumCylinder5+i\n",
    "for i in cylinder6:\n",
    "    sumCylinder6=sumCylinder6+i\n",
    "for i in cylinder8:\n",
    "    sumCylinder8=sumCylinder8+i\n",
    "    \n",
    "#Now we find the averages\n",
    "AverageCylinder4=sumCylinder4/len(cylinder4)\n",
    "AverageCylinder5=sumCylinder5/len(cylinder5)\n",
    "AverageCylinder6=sumCylinder6/len(cylinder6)\n",
    "AverageCylinder8=sumCylinder8/len(cylinder8)\n",
    "\n",
    "#Here are our statements\n",
    "print(\"City average of 4 cylinder vehicles is \",AverageCylinder4)\n",
    "print(\"City average of 5 cylinder vehicles is \",AverageCylinder5)\n",
    "print(\"City average of 6 cylinder vehicles is \",AverageCylinder6)\n",
    "print(\"City average of 8 cylinder vehicles is \",AverageCylinder8)"
   ]
  },
  {
   "cell_type": "code",
   "execution_count": null,
   "id": "422065c7",
   "metadata": {},
   "outputs": [],
   "source": []
  }
 ],
 "metadata": {
  "kernelspec": {
   "display_name": "Python 3 (ipykernel)",
   "language": "python",
   "name": "python3"
  },
  "language_info": {
   "codemirror_mode": {
    "name": "ipython",
    "version": 3
   },
   "file_extension": ".py",
   "mimetype": "text/x-python",
   "name": "python",
   "nbconvert_exporter": "python",
   "pygments_lexer": "ipython3",
   "version": "3.9.13"
  }
 },
 "nbformat": 4,
 "nbformat_minor": 5
}
